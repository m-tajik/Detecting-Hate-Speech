{
  "cells": [
    {
      "cell_type": "code",
      "execution_count": null,
      "metadata": {
        "colab": {
          "base_uri": "https://localhost:8080/"
        },
        "id": "3-vero26F3xp",
        "outputId": "4b47709d-8e4e-492c-a710-6974715571d0"
      },
      "outputs": [
        {
          "output_type": "stream",
          "name": "stdout",
          "text": [
            "Drive already mounted at /content/drive; to attempt to forcibly remount, call drive.mount(\"/content/drive\", force_remount=True).\n"
          ]
        }
      ],
      "source": [
        "from google.colab import drive\n",
        "drive.mount('/content/drive')"
      ]
    },
    {
      "cell_type": "code",
      "execution_count": null,
      "metadata": {
        "colab": {
          "base_uri": "https://localhost:8080/"
        },
        "id": "K0rFdWAjJdwN",
        "outputId": "dd99cbeb-1121-4dda-dbf4-8ff247b74ad7"
      },
      "outputs": [
        {
          "output_type": "stream",
          "name": "stdout",
          "text": [
            "Looking in indexes: https://pypi.org/simple, https://us-python.pkg.dev/colab-wheels/public/simple/\n",
            "Requirement already satisfied: openpyxl in /usr/local/lib/python3.9/dist-packages (3.0.10)\n",
            "Requirement already satisfied: et-xmlfile in /usr/local/lib/python3.9/dist-packages (from openpyxl) (1.1.0)\n"
          ]
        }
      ],
      "source": [
        "!pip install openpyxl"
      ]
    },
    {
      "cell_type": "code",
      "execution_count": null,
      "metadata": {
        "id": "omgduD-DJwDq",
        "colab": {
          "base_uri": "https://localhost:8080/",
          "height": 359
        },
        "outputId": "880a81d8-ddd7-4861-dfad-9d217483884b"
      },
      "outputs": [
        {
          "output_type": "execute_result",
          "data": {
            "text/plain": [
              "                                           Statement  Sentiment\n",
              "0  It should be legal for a husband to rape his wife        1.0\n",
              "1                            dalits are lowlife scum        1.0\n",
              "2                                dalits are lowlives        1.0\n",
              "3  It was a better world when women dare not ques...        1.0\n",
              "4  I don't work this hard so that those immigrant...        1.0\n",
              "5  I don't work this hard so that those migrants ...        1.0\n",
              "6  I don't work this hard so that those foreigner...        1.0\n",
              "7  I don't work this hard so that those Hispanics...        1.0\n",
              "8  I don't work this hard so that those chavs can...        1.0\n",
              "9  I don't work this hard so that all those pakis...        1.0"
            ],
            "text/html": [
              "\n",
              "  <div id=\"df-c3f72af3-9e30-4bd3-b643-99a3c70a81ee\">\n",
              "    <div class=\"colab-df-container\">\n",
              "      <div>\n",
              "<style scoped>\n",
              "    .dataframe tbody tr th:only-of-type {\n",
              "        vertical-align: middle;\n",
              "    }\n",
              "\n",
              "    .dataframe tbody tr th {\n",
              "        vertical-align: top;\n",
              "    }\n",
              "\n",
              "    .dataframe thead th {\n",
              "        text-align: right;\n",
              "    }\n",
              "</style>\n",
              "<table border=\"1\" class=\"dataframe\">\n",
              "  <thead>\n",
              "    <tr style=\"text-align: right;\">\n",
              "      <th></th>\n",
              "      <th>Statement</th>\n",
              "      <th>Sentiment</th>\n",
              "    </tr>\n",
              "  </thead>\n",
              "  <tbody>\n",
              "    <tr>\n",
              "      <th>0</th>\n",
              "      <td>It should be legal for a husband to rape his wife</td>\n",
              "      <td>1.0</td>\n",
              "    </tr>\n",
              "    <tr>\n",
              "      <th>1</th>\n",
              "      <td>dalits are lowlife scum</td>\n",
              "      <td>1.0</td>\n",
              "    </tr>\n",
              "    <tr>\n",
              "      <th>2</th>\n",
              "      <td>dalits are lowlives</td>\n",
              "      <td>1.0</td>\n",
              "    </tr>\n",
              "    <tr>\n",
              "      <th>3</th>\n",
              "      <td>It was a better world when women dare not ques...</td>\n",
              "      <td>1.0</td>\n",
              "    </tr>\n",
              "    <tr>\n",
              "      <th>4</th>\n",
              "      <td>I don't work this hard so that those immigrant...</td>\n",
              "      <td>1.0</td>\n",
              "    </tr>\n",
              "    <tr>\n",
              "      <th>5</th>\n",
              "      <td>I don't work this hard so that those migrants ...</td>\n",
              "      <td>1.0</td>\n",
              "    </tr>\n",
              "    <tr>\n",
              "      <th>6</th>\n",
              "      <td>I don't work this hard so that those foreigner...</td>\n",
              "      <td>1.0</td>\n",
              "    </tr>\n",
              "    <tr>\n",
              "      <th>7</th>\n",
              "      <td>I don't work this hard so that those Hispanics...</td>\n",
              "      <td>1.0</td>\n",
              "    </tr>\n",
              "    <tr>\n",
              "      <th>8</th>\n",
              "      <td>I don't work this hard so that those chavs can...</td>\n",
              "      <td>1.0</td>\n",
              "    </tr>\n",
              "    <tr>\n",
              "      <th>9</th>\n",
              "      <td>I don't work this hard so that all those pakis...</td>\n",
              "      <td>1.0</td>\n",
              "    </tr>\n",
              "  </tbody>\n",
              "</table>\n",
              "</div>\n",
              "      <button class=\"colab-df-convert\" onclick=\"convertToInteractive('df-c3f72af3-9e30-4bd3-b643-99a3c70a81ee')\"\n",
              "              title=\"Convert this dataframe to an interactive table.\"\n",
              "              style=\"display:none;\">\n",
              "        \n",
              "  <svg xmlns=\"http://www.w3.org/2000/svg\" height=\"24px\"viewBox=\"0 0 24 24\"\n",
              "       width=\"24px\">\n",
              "    <path d=\"M0 0h24v24H0V0z\" fill=\"none\"/>\n",
              "    <path d=\"M18.56 5.44l.94 2.06.94-2.06 2.06-.94-2.06-.94-.94-2.06-.94 2.06-2.06.94zm-11 1L8.5 8.5l.94-2.06 2.06-.94-2.06-.94L8.5 2.5l-.94 2.06-2.06.94zm10 10l.94 2.06.94-2.06 2.06-.94-2.06-.94-.94-2.06-.94 2.06-2.06.94z\"/><path d=\"M17.41 7.96l-1.37-1.37c-.4-.4-.92-.59-1.43-.59-.52 0-1.04.2-1.43.59L10.3 9.45l-7.72 7.72c-.78.78-.78 2.05 0 2.83L4 21.41c.39.39.9.59 1.41.59.51 0 1.02-.2 1.41-.59l7.78-7.78 2.81-2.81c.8-.78.8-2.07 0-2.86zM5.41 20L4 18.59l7.72-7.72 1.47 1.35L5.41 20z\"/>\n",
              "  </svg>\n",
              "      </button>\n",
              "      \n",
              "  <style>\n",
              "    .colab-df-container {\n",
              "      display:flex;\n",
              "      flex-wrap:wrap;\n",
              "      gap: 12px;\n",
              "    }\n",
              "\n",
              "    .colab-df-convert {\n",
              "      background-color: #E8F0FE;\n",
              "      border: none;\n",
              "      border-radius: 50%;\n",
              "      cursor: pointer;\n",
              "      display: none;\n",
              "      fill: #1967D2;\n",
              "      height: 32px;\n",
              "      padding: 0 0 0 0;\n",
              "      width: 32px;\n",
              "    }\n",
              "\n",
              "    .colab-df-convert:hover {\n",
              "      background-color: #E2EBFA;\n",
              "      box-shadow: 0px 1px 2px rgba(60, 64, 67, 0.3), 0px 1px 3px 1px rgba(60, 64, 67, 0.15);\n",
              "      fill: #174EA6;\n",
              "    }\n",
              "\n",
              "    [theme=dark] .colab-df-convert {\n",
              "      background-color: #3B4455;\n",
              "      fill: #D2E3FC;\n",
              "    }\n",
              "\n",
              "    [theme=dark] .colab-df-convert:hover {\n",
              "      background-color: #434B5C;\n",
              "      box-shadow: 0px 1px 3px 1px rgba(0, 0, 0, 0.15);\n",
              "      filter: drop-shadow(0px 1px 2px rgba(0, 0, 0, 0.3));\n",
              "      fill: #FFFFFF;\n",
              "    }\n",
              "  </style>\n",
              "\n",
              "      <script>\n",
              "        const buttonEl =\n",
              "          document.querySelector('#df-c3f72af3-9e30-4bd3-b643-99a3c70a81ee button.colab-df-convert');\n",
              "        buttonEl.style.display =\n",
              "          google.colab.kernel.accessAllowed ? 'block' : 'none';\n",
              "\n",
              "        async function convertToInteractive(key) {\n",
              "          const element = document.querySelector('#df-c3f72af3-9e30-4bd3-b643-99a3c70a81ee');\n",
              "          const dataTable =\n",
              "            await google.colab.kernel.invokeFunction('convertToInteractive',\n",
              "                                                     [key], {});\n",
              "          if (!dataTable) return;\n",
              "\n",
              "          const docLinkHtml = 'Like what you see? Visit the ' +\n",
              "            '<a target=\"_blank\" href=https://colab.research.google.com/notebooks/data_table.ipynb>data table notebook</a>'\n",
              "            + ' to learn more about interactive tables.';\n",
              "          element.innerHTML = '';\n",
              "          dataTable['output_type'] = 'display_data';\n",
              "          await google.colab.output.renderOutput(dataTable, element);\n",
              "          const docLink = document.createElement('div');\n",
              "          docLink.innerHTML = docLinkHtml;\n",
              "          element.appendChild(docLink);\n",
              "        }\n",
              "      </script>\n",
              "    </div>\n",
              "  </div>\n",
              "  "
            ]
          },
          "metadata": {},
          "execution_count": 123
        }
      ],
      "source": [
        "#import openpyxl\n",
        "\n",
        "workbook = openpyxl.load_workbook('/content/drive/My Drive/AI/Hate Speech.xlsx')\n",
        "worksheet = workbook.active\n",
        "\n",
        "# Create an empty list to hold the rows\n",
        "rows = []\n",
        "\n",
        "# Iterate over the rows in the worksheet\n",
        "for row in worksheet.iter_rows():\n",
        "    # Create an empty list to hold the values in each row\n",
        "    values = []\n",
        "    # Iterate over the cells in the row\n",
        "    for cell in row:\n",
        "        # Append the value of each cell to the row values list\n",
        "        values.append(cell.value)\n",
        "    # Append the row values list to the rows list\n",
        "    rows.append(values)\n",
        "\n",
        "# Create a DataFrame from the rows list\n",
        "df = pd.DataFrame(rows[1:], columns=rows[0])\n",
        "\n",
        "# View the first five rows of the DataFrame\n",
        "df.head(10)\n"
      ]
    },
    {
      "cell_type": "code",
      "execution_count": null,
      "metadata": {
        "colab": {
          "base_uri": "https://localhost:8080/"
        },
        "id": "L1qOzMAPKyAB",
        "outputId": "1c94950e-64cb-4502-d1dc-945be8e19cd7"
      },
      "outputs": [
        {
          "output_type": "stream",
          "name": "stdout",
          "text": [
            "Looking in indexes: https://pypi.org/simple, https://us-python.pkg.dev/colab-wheels/public/simple/\n",
            "Collecting sklearn\n",
            "  Downloading sklearn-0.0.post4.tar.gz (3.6 kB)\n",
            "  Preparing metadata (setup.py) ... \u001b[?25l\u001b[?25hdone\n",
            "Building wheels for collected packages: sklearn\n",
            "  Building wheel for sklearn (setup.py) ... \u001b[?25l\u001b[?25hdone\n",
            "  Created wheel for sklearn: filename=sklearn-0.0.post4-py3-none-any.whl size=2973 sha256=5b45fa90b6deee534100e6c246555ad13daa6660dfb76f2b6053c77f2b35dbb8\n",
            "  Stored in directory: /root/.cache/pip/wheels/d5/b2/a9/590d15767d34955f20a9a033e8db973b79cb5672d95790c0a9\n",
            "Successfully built sklearn\n",
            "Installing collected packages: sklearn\n",
            "Successfully installed sklearn-0.0.post4\n"
          ]
        }
      ],
      "source": [
        "!pip install sklearn"
      ]
    },
    {
      "cell_type": "code",
      "execution_count": null,
      "metadata": {
        "colab": {
          "base_uri": "https://localhost:8080/"
        },
        "id": "fYcd1EnmezEL",
        "outputId": "98c9803c-33c0-4848-a077-ad83b310f538"
      },
      "outputs": [
        {
          "output_type": "stream",
          "name": "stdout",
          "text": [
            "Looking in indexes: https://pypi.org/simple, https://us-python.pkg.dev/colab-wheels/public/simple/\n",
            "Requirement already satisfied: numpy in /usr/local/lib/python3.9/dist-packages (1.22.4)\n"
          ]
        }
      ],
      "source": [
        "!pip install numpy\n",
        ""
      ]
    },
    {
      "cell_type": "code",
      "execution_count": null,
      "metadata": {
        "colab": {
          "base_uri": "https://localhost:8080/"
        },
        "id": "1BaI_MXGe4lD",
        "outputId": "28d8044d-2390-4af5-ae6f-6935f0c16429"
      },
      "outputs": [
        {
          "name": "stdout",
          "output_type": "stream",
          "text": [
            "Looking in indexes: https://pypi.org/simple, https://us-python.pkg.dev/colab-wheels/public/simple/\n",
            "Requirement already satisfied: pandas in /usr/local/lib/python3.9/dist-packages (1.5.3)\n",
            "Requirement already satisfied: pytz>=2020.1 in /usr/local/lib/python3.9/dist-packages (from pandas) (2022.7.1)\n",
            "Requirement already satisfied: python-dateutil>=2.8.1 in /usr/local/lib/python3.9/dist-packages (from pandas) (2.8.2)\n",
            "Requirement already satisfied: numpy>=1.20.3 in /usr/local/lib/python3.9/dist-packages (from pandas) (1.22.4)\n",
            "Requirement already satisfied: six>=1.5 in /usr/local/lib/python3.9/dist-packages (from python-dateutil>=2.8.1->pandas) (1.16.0)\n"
          ]
        }
      ],
      "source": [
        "!pip install pandas"
      ]
    },
    {
      "cell_type": "code",
      "execution_count": null,
      "metadata": {
        "colab": {
          "base_uri": "https://localhost:8080/"
        },
        "id": "x7wilZlUe8vL",
        "outputId": "f9677873-5365-4e38-fe80-b90c7727d5c5"
      },
      "outputs": [
        {
          "output_type": "stream",
          "name": "stdout",
          "text": [
            "Looking in indexes: https://pypi.org/simple, https://us-python.pkg.dev/colab-wheels/public/simple/\n",
            "Requirement already satisfied: nltk in /usr/local/lib/python3.9/dist-packages (3.8.1)\n",
            "Requirement already satisfied: joblib in /usr/local/lib/python3.9/dist-packages (from nltk) (1.2.0)\n",
            "Requirement already satisfied: tqdm in /usr/local/lib/python3.9/dist-packages (from nltk) (4.65.0)\n",
            "Requirement already satisfied: regex>=2021.8.3 in /usr/local/lib/python3.9/dist-packages (from nltk) (2022.10.31)\n",
            "Requirement already satisfied: click in /usr/local/lib/python3.9/dist-packages (from nltk) (8.1.3)\n"
          ]
        }
      ],
      "source": [
        "!pip install nltk"
      ]
    },
    {
      "cell_type": "code",
      "execution_count": null,
      "metadata": {
        "colab": {
          "base_uri": "https://localhost:8080/"
        },
        "id": "ORxTiBcQGE88",
        "outputId": "0206e1d1-e5e7-41fa-a79f-1304f550329d"
      },
      "outputs": [
        {
          "output_type": "stream",
          "name": "stdout",
          "text": [
            "Looking in indexes: https://pypi.org/simple, https://us-python.pkg.dev/colab-wheels/public/simple/\n",
            "Requirement already satisfied: matplotlib in /usr/local/lib/python3.9/dist-packages (3.7.1)\n",
            "Requirement already satisfied: fonttools>=4.22.0 in /usr/local/lib/python3.9/dist-packages (from matplotlib) (4.39.3)\n",
            "Requirement already satisfied: python-dateutil>=2.7 in /usr/local/lib/python3.9/dist-packages (from matplotlib) (2.8.2)\n",
            "Requirement already satisfied: numpy>=1.20 in /usr/local/lib/python3.9/dist-packages (from matplotlib) (1.22.4)\n",
            "Requirement already satisfied: kiwisolver>=1.0.1 in /usr/local/lib/python3.9/dist-packages (from matplotlib) (1.4.4)\n",
            "Requirement already satisfied: contourpy>=1.0.1 in /usr/local/lib/python3.9/dist-packages (from matplotlib) (1.0.7)\n",
            "Requirement already satisfied: importlib-resources>=3.2.0 in /usr/local/lib/python3.9/dist-packages (from matplotlib) (5.12.0)\n",
            "Requirement already satisfied: pyparsing>=2.3.1 in /usr/local/lib/python3.9/dist-packages (from matplotlib) (3.0.9)\n",
            "Requirement already satisfied: packaging>=20.0 in /usr/local/lib/python3.9/dist-packages (from matplotlib) (23.1)\n",
            "Requirement already satisfied: pillow>=6.2.0 in /usr/local/lib/python3.9/dist-packages (from matplotlib) (8.4.0)\n",
            "Requirement already satisfied: cycler>=0.10 in /usr/local/lib/python3.9/dist-packages (from matplotlib) (0.11.0)\n",
            "Requirement already satisfied: zipp>=3.1.0 in /usr/local/lib/python3.9/dist-packages (from importlib-resources>=3.2.0->matplotlib) (3.15.0)\n",
            "Requirement already satisfied: six>=1.5 in /usr/local/lib/python3.9/dist-packages (from python-dateutil>=2.7->matplotlib) (1.16.0)\n"
          ]
        }
      ],
      "source": [
        "!pip install matplotlib"
      ]
    },
    {
      "cell_type": "code",
      "execution_count": null,
      "metadata": {
        "colab": {
          "base_uri": "https://localhost:8080/"
        },
        "id": "piwEubWso1Nz",
        "outputId": "f21c4d68-4843-4a54-aaca-8288fb91b54a"
      },
      "outputs": [
        {
          "output_type": "stream",
          "name": "stdout",
          "text": [
            "Looking in indexes: https://pypi.org/simple, https://us-python.pkg.dev/colab-wheels/public/simple/\n",
            "Collecting imblearn\n",
            "  Downloading imblearn-0.0-py2.py3-none-any.whl (1.9 kB)\n",
            "Requirement already satisfied: imbalanced-learn in /usr/local/lib/python3.9/dist-packages (from imblearn) (0.10.1)\n",
            "Requirement already satisfied: numpy>=1.17.3 in /usr/local/lib/python3.9/dist-packages (from imbalanced-learn->imblearn) (1.22.4)\n",
            "Requirement already satisfied: scikit-learn>=1.0.2 in /usr/local/lib/python3.9/dist-packages (from imbalanced-learn->imblearn) (1.2.2)\n",
            "Requirement already satisfied: scipy>=1.3.2 in /usr/local/lib/python3.9/dist-packages (from imbalanced-learn->imblearn) (1.10.1)\n",
            "Requirement already satisfied: threadpoolctl>=2.0.0 in /usr/local/lib/python3.9/dist-packages (from imbalanced-learn->imblearn) (3.1.0)\n",
            "Requirement already satisfied: joblib>=1.1.1 in /usr/local/lib/python3.9/dist-packages (from imbalanced-learn->imblearn) (1.2.0)\n",
            "Installing collected packages: imblearn\n",
            "Successfully installed imblearn-0.0\n"
          ]
        }
      ],
      "source": [
        "!pip install imblearn"
      ]
    },
    {
      "cell_type": "code",
      "execution_count": null,
      "metadata": {
        "id": "idLqyAU5H9h2"
      },
      "outputs": [],
      "source": [
        "import numpy as np\n",
        "import pandas as pd\n",
        "import matplotlib.pyplot as plt\n",
        "\n",
        "from sklearn.feature_extraction.text import TfidfTransformer, CountVectorizer, TfidfVectorizer\n",
        "from sklearn.metrics import confusion_matrix\n",
        "from sklearn.model_selection import train_test_split\n",
        "\n",
        "from nltk.stem.porter import PorterStemmer\n",
        "import nltk\n",
        "import re, string\n",
        "from nltk.corpus import stopwords\n",
        "\n",
        "from sklearn.linear_model import LogisticRegression\n",
        "from sklearn.ensemble import RandomForestClassifier, AdaBoostClassifier\n",
        "from sklearn.linear_model import LogisticRegression\n",
        "from sklearn.svm import LinearSVC\n",
        "from sklearn.model_selection import train_test_split\n",
        "from sklearn.naive_bayes import GaussianNB\n",
        "from sklearn.tree import DecisionTreeClassifier\n",
        "\n",
        "from sklearn.model_selection import cross_val_score\n",
        "\n",
        "from sklearn.metrics import confusion_matrix\n",
        "from sklearn.metrics import accuracy_score\n",
        "from sklearn.metrics import precision_recall_curve\n",
        "import matplotlib.pyplot as plt\n",
        "from sklearn.metrics import roc_auc_score\n",
        "from sklearn.metrics import roc_curve\n",
        "from sklearn.metrics import classification_report\n",
        "from sklearn import metrics\n",
        ""
      ]
    },
    {
      "cell_type": "code",
      "execution_count": null,
      "metadata": {
        "colab": {
          "base_uri": "https://localhost:8080/"
        },
        "id": "IcBsxmlZqFbc",
        "outputId": "78997b86-5f11-4efa-869a-116869e7c098"
      },
      "outputs": [
        {
          "output_type": "execute_result",
          "data": {
            "text/plain": [
              "(2166, 2)"
            ]
          },
          "metadata": {},
          "execution_count": 130
        }
      ],
      "source": [
        "\n",
        "df.shape"
      ]
    },
    {
      "cell_type": "code",
      "execution_count": null,
      "metadata": {
        "colab": {
          "base_uri": "https://localhost:8080/",
          "height": 68
        },
        "id": "hJE64N84RCzE",
        "outputId": "6c771091-957a-4817-b0fe-28ca7a8c511f"
      },
      "outputs": [
        {
          "output_type": "display_data",
          "data": {
            "text/plain": [
              "Statement    object\n",
              "Sentiment     int64\n",
              "dtype: object"
            ]
          },
          "metadata": {}
        }
      ],
      "source": [
        "df['Sentiment'] = df['Sentiment'].astype(int)\n",
        "\n",
        "# displaying the datatypes\n",
        "display(df.dtypes)"
      ]
    },
    {
      "cell_type": "code",
      "execution_count": null,
      "metadata": {
        "colab": {
          "base_uri": "https://localhost:8080/",
          "height": 442
        },
        "id": "cM9VUxgwqOxm",
        "outputId": "183109ed-b0af-42b4-beb9-8c1b9a59c4ec"
      },
      "outputs": [
        {
          "output_type": "execute_result",
          "data": {
            "text/plain": [
              "<Axes: >"
            ]
          },
          "metadata": {},
          "execution_count": 132
        },
        {
          "output_type": "display_data",
          "data": {
            "text/plain": [
              "<Figure size 640x480 with 1 Axes>"
            ],
            "image/png": "[encoded data removed]"
          },
          "metadata": {}
        }
      ],
      "source": [
        "df['Sentiment'].value_counts().sort_index().plot.bar()"
      ]
    },
    {
      "cell_type": "code",
      "execution_count": null,
      "metadata": {
        "colab": {
          "base_uri": "https://localhost:8080/"
        },
        "id": "kvulUCe3PUiO",
        "outputId": "1ffd89bb-e8fe-461b-e2e6-ae83bcd3ee21"
      },
      "outputs": [
        {
          "output_type": "stream",
          "name": "stdout",
          "text": [
            "PosiNon cyber trollingtive:  53.8781163434903 %\n",
            "Cybertrolling:  46.121883656509695 %\n"
          ]
        }
      ],
      "source": [
        "#Biasness\n",
        "print(\"PosiNon cyber trollingtive: \", df.Sentiment.value_counts()[0]/len(df.Sentiment)*100,\"%\")\n",
        "print(\"Cybertrolling: \", df.Sentiment.value_counts()[1]/len(df.Sentiment)*100,\"%\")"
      ]
    },
    {
      "cell_type": "code",
      "execution_count": null,
      "metadata": {
        "colab": {
          "base_uri": "https://localhost:8080/",
          "height": 393
        },
        "id": "vhftlL0sI4zF",
        "outputId": "647f639b-94a1-42fb-c652-9169442e756e"
      },
      "outputs": [
        {
          "output_type": "stream",
          "name": "stderr",
          "text": [
            "[nltk_data] Downloading package stopwords to /root/nltk_data...\n",
            "[nltk_data]   Package stopwords is already up-to-date!\n"
          ]
        },
        {
          "output_type": "execute_result",
          "data": {
            "text/plain": [
              "   Sentiment                    content_without_puncs\n",
              "0          1               It legal husband rape wife\n",
              "1          1                      dalits lowlife scum\n",
              "2          1                          dalits lowlives\n",
              "3          1  It better world women dare question men\n",
              "4          1     I work hard immigrants take benefits\n",
              "5          1       I work hard migrants take benefits\n",
              "6          1     I work hard foreigners take benefits\n",
              "7          1      I work hard Hispanics take benefits\n",
              "8          1          I work hard chavs take benefits\n",
              "9          1          I work hard pakis take benefits"
            ],
            "text/html": [
              "\n",
              "  <div id=\"df-be70d11e-93d5-4bd1-8fed-3ced7522eaaa\">\n",
              "    <div class=\"colab-df-container\">\n",
              "      <div>\n",
              "<style scoped>\n",
              "    .dataframe tbody tr th:only-of-type {\n",
              "        vertical-align: middle;\n",
              "    }\n",
              "\n",
              "    .dataframe tbody tr th {\n",
              "        vertical-align: top;\n",
              "    }\n",
              "\n",
              "    .dataframe thead th {\n",
              "        text-align: right;\n",
              "    }\n",
              "</style>\n",
              "<table border=\"1\" class=\"dataframe\">\n",
              "  <thead>\n",
              "    <tr style=\"text-align: right;\">\n",
              "      <th></th>\n",
              "      <th>Sentiment</th>\n",
              "      <th>content_without_puncs</th>\n",
              "    </tr>\n",
              "  </thead>\n",
              "  <tbody>\n",
              "    <tr>\n",
              "      <th>0</th>\n",
              "      <td>1</td>\n",
              "      <td>It legal husband rape wife</td>\n",
              "    </tr>\n",
              "    <tr>\n",
              "      <th>1</th>\n",
              "      <td>1</td>\n",
              "      <td>dalits lowlife scum</td>\n",
              "    </tr>\n",
              "    <tr>\n",
              "      <th>2</th>\n",
              "      <td>1</td>\n",
              "      <td>dalits lowlives</td>\n",
              "    </tr>\n",
              "    <tr>\n",
              "      <th>3</th>\n",
              "      <td>1</td>\n",
              "      <td>It better world women dare question men</td>\n",
              "    </tr>\n",
              "    <tr>\n",
              "      <th>4</th>\n",
              "      <td>1</td>\n",
              "      <td>I work hard immigrants take benefits</td>\n",
              "    </tr>\n",
              "    <tr>\n",
              "      <th>5</th>\n",
              "      <td>1</td>\n",
              "      <td>I work hard migrants take benefits</td>\n",
              "    </tr>\n",
              "    <tr>\n",
              "      <th>6</th>\n",
              "      <td>1</td>\n",
              "      <td>I work hard foreigners take benefits</td>\n",
              "    </tr>\n",
              "    <tr>\n",
              "      <th>7</th>\n",
              "      <td>1</td>\n",
              "      <td>I work hard Hispanics take benefits</td>\n",
              "    </tr>\n",
              "    <tr>\n",
              "      <th>8</th>\n",
              "      <td>1</td>\n",
              "      <td>I work hard chavs take benefits</td>\n",
              "    </tr>\n",
              "    <tr>\n",
              "      <th>9</th>\n",
              "      <td>1</td>\n",
              "      <td>I work hard pakis take benefits</td>\n",
              "    </tr>\n",
              "  </tbody>\n",
              "</table>\n",
              "</div>\n",
              "      <button class=\"colab-df-convert\" onclick=\"convertToInteractive('df-be70d11e-93d5-4bd1-8fed-3ced7522eaaa')\"\n",
              "              title=\"Convert this dataframe to an interactive table.\"\n",
              "              style=\"display:none;\">\n",
              "        \n",
              "  <svg xmlns=\"http://www.w3.org/2000/svg\" height=\"24px\"viewBox=\"0 0 24 24\"\n",
              "       width=\"24px\">\n",
              "    <path d=\"M0 0h24v24H0V0z\" fill=\"none\"/>\n",
              "    <path d=\"M18.56 5.44l.94 2.06.94-2.06 2.06-.94-2.06-.94-.94-2.06-.94 2.06-2.06.94zm-11 1L8.5 8.5l.94-2.06 2.06-.94-2.06-.94L8.5 2.5l-.94 2.06-2.06.94zm10 10l.94 2.06.94-2.06 2.06-.94-2.06-.94-.94-2.06-.94 2.06-2.06.94z\"/><path d=\"M17.41 7.96l-1.37-1.37c-.4-.4-.92-.59-1.43-.59-.52 0-1.04.2-1.43.59L10.3 9.45l-7.72 7.72c-.78.78-.78 2.05 0 2.83L4 21.41c.39.39.9.59 1.41.59.51 0 1.02-.2 1.41-.59l7.78-7.78 2.81-2.81c.8-.78.8-2.07 0-2.86zM5.41 20L4 18.59l7.72-7.72 1.47 1.35L5.41 20z\"/>\n",
              "  </svg>\n",
              "      </button>\n",
              "      \n",
              "  <style>\n",
              "    .colab-df-container {\n",
              "      display:flex;\n",
              "      flex-wrap:wrap;\n",
              "      gap: 12px;\n",
              "    }\n",
              "\n",
              "    .colab-df-convert {\n",
              "      background-color: #E8F0FE;\n",
              "      border: none;\n",
              "      border-radius: 50%;\n",
              "      cursor: pointer;\n",
              "      display: none;\n",
              "      fill: #1967D2;\n",
              "      height: 32px;\n",
              "      padding: 0 0 0 0;\n",
              "      width: 32px;\n",
              "    }\n",
              "\n",
              "    .colab-df-convert:hover {\n",
              "      background-color: #E2EBFA;\n",
              "      box-shadow: 0px 1px 2px rgba(60, 64, 67, 0.3), 0px 1px 3px 1px rgba(60, 64, 67, 0.15);\n",
              "      fill: #174EA6;\n",
              "    }\n",
              "\n",
              "    [theme=dark] .colab-df-convert {\n",
              "      background-color: #3B4455;\n",
              "      fill: #D2E3FC;\n",
              "    }\n",
              "\n",
              "    [theme=dark] .colab-df-convert:hover {\n",
              "      background-color: #434B5C;\n",
              "      box-shadow: 0px 1px 3px 1px rgba(0, 0, 0, 0.15);\n",
              "      filter: drop-shadow(0px 1px 2px rgba(0, 0, 0, 0.3));\n",
              "      fill: #FFFFFF;\n",
              "    }\n",
              "  </style>\n",
              "\n",
              "      <script>\n",
              "        const buttonEl =\n",
              "          document.querySelector('#df-be70d11e-93d5-4bd1-8fed-3ced7522eaaa button.colab-df-convert');\n",
              "        buttonEl.style.display =\n",
              "          google.colab.kernel.accessAllowed ? 'block' : 'none';\n",
              "\n",
              "        async function convertToInteractive(key) {\n",
              "          const element = document.querySelector('#df-be70d11e-93d5-4bd1-8fed-3ced7522eaaa');\n",
              "          const dataTable =\n",
              "            await google.colab.kernel.invokeFunction('convertToInteractive',\n",
              "                                                     [key], {});\n",
              "          if (!dataTable) return;\n",
              "\n",
              "          const docLinkHtml = 'Like what you see? Visit the ' +\n",
              "            '<a target=\"_blank\" href=https://colab.research.google.com/notebooks/data_table.ipynb>data table notebook</a>'\n",
              "            + ' to learn more about interactive tables.';\n",
              "          element.innerHTML = '';\n",
              "          dataTable['output_type'] = 'display_data';\n",
              "          await google.colab.output.renderOutput(dataTable, element);\n",
              "          const docLink = document.createElement('div');\n",
              "          docLink.innerHTML = docLinkHtml;\n",
              "          element.appendChild(docLink);\n",
              "        }\n",
              "      </script>\n",
              "    </div>\n",
              "  </div>\n",
              "  "
            ]
          },
          "metadata": {},
          "execution_count": 134
        }
      ],
      "source": [
        "nltk.download('stopwords')\n",
        "stop = stopwords.words('english')\n",
        "\n",
        "regex = re.compile('[%s]' % re.escape(string.punctuation))\n",
        "\n",
        "def test_re(s):\n",
        "    return regex.sub('', s)\n",
        "\n",
        "df ['content_without_stopwords'] = df['Statement'].apply(lambda x: ' '.join([word for word in x.split() if word not in (stop)]))\n",
        "df ['content_without_puncs'] = df['content_without_stopwords'].apply(lambda x: regex.sub('',x))\n",
        "del df['content_without_stopwords']\n",
        "del df['Statement']\n",
        "df.head(10)"
      ]
    },
    {
      "cell_type": "code",
      "execution_count": null,
      "metadata": {
        "colab": {
          "base_uri": "https://localhost:8080/",
          "height": 393
        },
        "id": "E-R6oQt7LP7S",
        "outputId": "b57d79af-ac92-4492-f78f-00f04e69f7eb"
      },
      "outputs": [
        {
          "output_type": "stream",
          "name": "stderr",
          "text": [
            "[nltk_data] Downloading package punkt to /root/nltk_data...\n",
            "[nltk_data]   Package punkt is already up-to-date!\n"
          ]
        },
        {
          "output_type": "execute_result",
          "data": {
            "text/plain": [
              "   Sentiment                          content_tokenize\n",
              "0          1                it legal husband rape wife\n",
              "1          1                         dalit lowlif scum\n",
              "2          1                              dalit lowliv\n",
              "3          1   it better world women dare question men\n",
              "4          1           i work hard immigr take benefit\n",
              "5          1          i work hard migrant take benefit\n",
              "6          1          i work hard foreign take benefit\n",
              "7          1           i work hard hispan take benefit\n",
              "8          1             i work hard chav take benefit\n",
              "9          1             i work hard paki take benefit"
            ],
            "text/html": [
              "\n",
              "  <div id=\"df-ca0ebc7e-75c7-4103-a56f-799179be53bc\">\n",
              "    <div class=\"colab-df-container\">\n",
              "      <div>\n",
              "<style scoped>\n",
              "    .dataframe tbody tr th:only-of-type {\n",
              "        vertical-align: middle;\n",
              "    }\n",
              "\n",
              "    .dataframe tbody tr th {\n",
              "        vertical-align: top;\n",
              "    }\n",
              "\n",
              "    .dataframe thead th {\n",
              "        text-align: right;\n",
              "    }\n",
              "</style>\n",
              "<table border=\"1\" class=\"dataframe\">\n",
              "  <thead>\n",
              "    <tr style=\"text-align: right;\">\n",
              "      <th></th>\n",
              "      <th>Sentiment</th>\n",
              "      <th>content_tokenize</th>\n",
              "    </tr>\n",
              "  </thead>\n",
              "  <tbody>\n",
              "    <tr>\n",
              "      <th>0</th>\n",
              "      <td>1</td>\n",
              "      <td>it legal husband rape wife</td>\n",
              "    </tr>\n",
              "    <tr>\n",
              "      <th>1</th>\n",
              "      <td>1</td>\n",
              "      <td>dalit lowlif scum</td>\n",
              "    </tr>\n",
              "    <tr>\n",
              "      <th>2</th>\n",
              "      <td>1</td>\n",
              "      <td>dalit lowliv</td>\n",
              "    </tr>\n",
              "    <tr>\n",
              "      <th>3</th>\n",
              "      <td>1</td>\n",
              "      <td>it better world women dare question men</td>\n",
              "    </tr>\n",
              "    <tr>\n",
              "      <th>4</th>\n",
              "      <td>1</td>\n",
              "      <td>i work hard immigr take benefit</td>\n",
              "    </tr>\n",
              "    <tr>\n",
              "      <th>5</th>\n",
              "      <td>1</td>\n",
              "      <td>i work hard migrant take benefit</td>\n",
              "    </tr>\n",
              "    <tr>\n",
              "      <th>6</th>\n",
              "      <td>1</td>\n",
              "      <td>i work hard foreign take benefit</td>\n",
              "    </tr>\n",
              "    <tr>\n",
              "      <th>7</th>\n",
              "      <td>1</td>\n",
              "      <td>i work hard hispan take benefit</td>\n",
              "    </tr>\n",
              "    <tr>\n",
              "      <th>8</th>\n",
              "      <td>1</td>\n",
              "      <td>i work hard chav take benefit</td>\n",
              "    </tr>\n",
              "    <tr>\n",
              "      <th>9</th>\n",
              "      <td>1</td>\n",
              "      <td>i work hard paki take benefit</td>\n",
              "    </tr>\n",
              "  </tbody>\n",
              "</table>\n",
              "</div>\n",
              "      <button class=\"colab-df-convert\" onclick=\"convertToInteractive('df-ca0ebc7e-75c7-4103-a56f-799179be53bc')\"\n",
              "              title=\"Convert this dataframe to an interactive table.\"\n",
              "              style=\"display:none;\">\n",
              "        \n",
              "  <svg xmlns=\"http://www.w3.org/2000/svg\" height=\"24px\"viewBox=\"0 0 24 24\"\n",
              "       width=\"24px\">\n",
              "    <path d=\"M0 0h24v24H0V0z\" fill=\"none\"/>\n",
              "    <path d=\"M18.56 5.44l.94 2.06.94-2.06 2.06-.94-2.06-.94-.94-2.06-.94 2.06-2.06.94zm-11 1L8.5 8.5l.94-2.06 2.06-.94-2.06-.94L8.5 2.5l-.94 2.06-2.06.94zm10 10l.94 2.06.94-2.06 2.06-.94-2.06-.94-.94-2.06-.94 2.06-2.06.94z\"/><path d=\"M17.41 7.96l-1.37-1.37c-.4-.4-.92-.59-1.43-.59-.52 0-1.04.2-1.43.59L10.3 9.45l-7.72 7.72c-.78.78-.78 2.05 0 2.83L4 21.41c.39.39.9.59 1.41.59.51 0 1.02-.2 1.41-.59l7.78-7.78 2.81-2.81c.8-.78.8-2.07 0-2.86zM5.41 20L4 18.59l7.72-7.72 1.47 1.35L5.41 20z\"/>\n",
              "  </svg>\n",
              "      </button>\n",
              "      \n",
              "  <style>\n",
              "    .colab-df-container {\n",
              "      display:flex;\n",
              "      flex-wrap:wrap;\n",
              "      gap: 12px;\n",
              "    }\n",
              "\n",
              "    .colab-df-convert {\n",
              "      background-color: #E8F0FE;\n",
              "      border: none;\n",
              "      border-radius: 50%;\n",
              "      cursor: pointer;\n",
              "      display: none;\n",
              "      fill: #1967D2;\n",
              "      height: 32px;\n",
              "      padding: 0 0 0 0;\n",
              "      width: 32px;\n",
              "    }\n",
              "\n",
              "    .colab-df-convert:hover {\n",
              "      background-color: #E2EBFA;\n",
              "      box-shadow: 0px 1px 2px rgba(60, 64, 67, 0.3), 0px 1px 3px 1px rgba(60, 64, 67, 0.15);\n",
              "      fill: #174EA6;\n",
              "    }\n",
              "\n",
              "    [theme=dark] .colab-df-convert {\n",
              "      background-color: #3B4455;\n",
              "      fill: #D2E3FC;\n",
              "    }\n",
              "\n",
              "    [theme=dark] .colab-df-convert:hover {\n",
              "      background-color: #434B5C;\n",
              "      box-shadow: 0px 1px 3px 1px rgba(0, 0, 0, 0.15);\n",
              "      filter: drop-shadow(0px 1px 2px rgba(0, 0, 0, 0.3));\n",
              "      fill: #FFFFFF;\n",
              "    }\n",
              "  </style>\n",
              "\n",
              "      <script>\n",
              "        const buttonEl =\n",
              "          document.querySelector('#df-ca0ebc7e-75c7-4103-a56f-799179be53bc button.colab-df-convert');\n",
              "        buttonEl.style.display =\n",
              "          google.colab.kernel.accessAllowed ? 'block' : 'none';\n",
              "\n",
              "        async function convertToInteractive(key) {\n",
              "          const element = document.querySelector('#df-ca0ebc7e-75c7-4103-a56f-799179be53bc');\n",
              "          const dataTable =\n",
              "            await google.colab.kernel.invokeFunction('convertToInteractive',\n",
              "                                                     [key], {});\n",
              "          if (!dataTable) return;\n",
              "\n",
              "          const docLinkHtml = 'Like what you see? Visit the ' +\n",
              "            '<a target=\"_blank\" href=https://colab.research.google.com/notebooks/data_table.ipynb>data table notebook</a>'\n",
              "            + ' to learn more about interactive tables.';\n",
              "          element.innerHTML = '';\n",
              "          dataTable['output_type'] = 'display_data';\n",
              "          await google.colab.output.renderOutput(dataTable, element);\n",
              "          const docLink = document.createElement('div');\n",
              "          docLink.innerHTML = docLinkHtml;\n",
              "          element.appendChild(docLink);\n",
              "        }\n",
              "      </script>\n",
              "    </div>\n",
              "  </div>\n",
              "  "
            ]
          },
          "metadata": {},
          "execution_count": 135
        }
      ],
      "source": [
        "#Stemming\n",
        "porter_stemmer = PorterStemmer()\n",
        "#punctuations\n",
        "nltk.download('punkt')\n",
        "tok_list = []\n",
        "size = df.shape[0]\n",
        "\n",
        "for i in range(size):\n",
        "  word_data = df['content_without_puncs'][i]\n",
        "  nltk_tokens = nltk.word_tokenize(word_data)\n",
        "  final = ''\n",
        "  for w in nltk_tokens:\n",
        "    final = final + ' ' + porter_stemmer.stem(w)\n",
        "  tok_list.append(final)\n",
        "\n",
        "df['content_tokenize'] = tok_list\n",
        "del df['content_without_puncs']\n",
        "df.head(10)"
      ]
    },
    {
      "cell_type": "code",
      "execution_count": null,
      "metadata": {
        "colab": {
          "base_uri": "https://localhost:8080/",
          "height": 419
        },
        "id": "YbEMSohzLaxO",
        "outputId": "b2ddc68b-bd13-4cca-e7d4-32a903a4bdb5"
      },
      "outputs": [
        {
          "output_type": "execute_result",
          "data": {
            "text/plain": [
              "      Sentiment                                   content_tokenize  \\\n",
              "0             1                         it legal husband rape wife   \n",
              "1             1                                  dalit lowlif scum   \n",
              "2             1                                       dalit lowliv   \n",
              "3             1            it better world women dare question men   \n",
              "4             1                    i work hard immigr take benefit   \n",
              "...         ...                                                ...   \n",
              "2161          0   in life first organ stone piedra spanish care...   \n",
              "2162          0   there film movi i consid favorit year the gos...   \n",
              "2163          0   1936 prolif year astair roger their second fi...   \n",
              "2164          0   soylent green one best disturb scienc fiction...   \n",
              "2165          0   and great rocknrol movi itself no matter evol...   \n",
              "\n",
              "                                              Statement  \n",
              "0                            it legal husband rape wife  \n",
              "1                                     dalit lowlif scum  \n",
              "2                                          dalit lowliv  \n",
              "3               it better world women dare question men  \n",
              "4                       i work hard immigr take benefit  \n",
              "...                                                 ...  \n",
              "2161   in life first organ stone piedra spanish care...  \n",
              "2162   there film movi i consid favorit year the gos...  \n",
              "2163    prolif year astair roger their second film r...  \n",
              "2164   soylent green one best disturb scienc fiction...  \n",
              "2165   and great rocknrol movi itself no matter evol...  \n",
              "\n",
              "[2166 rows x 3 columns]"
            ],
            "text/html": [
              "\n",
              "  <div id=\"df-d54186fa-8492-4559-9ca9-ee86000579a9\">\n",
              "    <div class=\"colab-df-container\">\n",
              "      <div>\n",
              "<style scoped>\n",
              "    .dataframe tbody tr th:only-of-type {\n",
              "        vertical-align: middle;\n",
              "    }\n",
              "\n",
              "    .dataframe tbody tr th {\n",
              "        vertical-align: top;\n",
              "    }\n",
              "\n",
              "    .dataframe thead th {\n",
              "        text-align: right;\n",
              "    }\n",
              "</style>\n",
              "<table border=\"1\" class=\"dataframe\">\n",
              "  <thead>\n",
              "    <tr style=\"text-align: right;\">\n",
              "      <th></th>\n",
              "      <th>Sentiment</th>\n",
              "      <th>content_tokenize</th>\n",
              "      <th>Statement</th>\n",
              "    </tr>\n",
              "  </thead>\n",
              "  <tbody>\n",
              "    <tr>\n",
              "      <th>0</th>\n",
              "      <td>1</td>\n",
              "      <td>it legal husband rape wife</td>\n",
              "      <td>it legal husband rape wife</td>\n",
              "    </tr>\n",
              "    <tr>\n",
              "      <th>1</th>\n",
              "      <td>1</td>\n",
              "      <td>dalit lowlif scum</td>\n",
              "      <td>dalit lowlif scum</td>\n",
              "    </tr>\n",
              "    <tr>\n",
              "      <th>2</th>\n",
              "      <td>1</td>\n",
              "      <td>dalit lowliv</td>\n",
              "      <td>dalit lowliv</td>\n",
              "    </tr>\n",
              "    <tr>\n",
              "      <th>3</th>\n",
              "      <td>1</td>\n",
              "      <td>it better world women dare question men</td>\n",
              "      <td>it better world women dare question men</td>\n",
              "    </tr>\n",
              "    <tr>\n",
              "      <th>4</th>\n",
              "      <td>1</td>\n",
              "      <td>i work hard immigr take benefit</td>\n",
              "      <td>i work hard immigr take benefit</td>\n",
              "    </tr>\n",
              "    <tr>\n",
              "      <th>...</th>\n",
              "      <td>...</td>\n",
              "      <td>...</td>\n",
              "      <td>...</td>\n",
              "    </tr>\n",
              "    <tr>\n",
              "      <th>2161</th>\n",
              "      <td>0</td>\n",
              "      <td>in life first organ stone piedra spanish care...</td>\n",
              "      <td>in life first organ stone piedra spanish care...</td>\n",
              "    </tr>\n",
              "    <tr>\n",
              "      <th>2162</th>\n",
              "      <td>0</td>\n",
              "      <td>there film movi i consid favorit year the gos...</td>\n",
              "      <td>there film movi i consid favorit year the gos...</td>\n",
              "    </tr>\n",
              "    <tr>\n",
              "      <th>2163</th>\n",
              "      <td>0</td>\n",
              "      <td>1936 prolif year astair roger their second fi...</td>\n",
              "      <td>prolif year astair roger their second film r...</td>\n",
              "    </tr>\n",
              "    <tr>\n",
              "      <th>2164</th>\n",
              "      <td>0</td>\n",
              "      <td>soylent green one best disturb scienc fiction...</td>\n",
              "      <td>soylent green one best disturb scienc fiction...</td>\n",
              "    </tr>\n",
              "    <tr>\n",
              "      <th>2165</th>\n",
              "      <td>0</td>\n",
              "      <td>and great rocknrol movi itself no matter evol...</td>\n",
              "      <td>and great rocknrol movi itself no matter evol...</td>\n",
              "    </tr>\n",
              "  </tbody>\n",
              "</table>\n",
              "<p>2166 rows × 3 columns</p>\n",
              "</div>\n",
              "      <button class=\"colab-df-convert\" onclick=\"convertToInteractive('df-d54186fa-8492-4559-9ca9-ee86000579a9')\"\n",
              "              title=\"Convert this dataframe to an interactive table.\"\n",
              "              style=\"display:none;\">\n",
              "        \n",
              "  <svg xmlns=\"http://www.w3.org/2000/svg\" height=\"24px\"viewBox=\"0 0 24 24\"\n",
              "       width=\"24px\">\n",
              "    <path d=\"M0 0h24v24H0V0z\" fill=\"none\"/>\n",
              "    <path d=\"M18.56 5.44l.94 2.06.94-2.06 2.06-.94-2.06-.94-.94-2.06-.94 2.06-2.06.94zm-11 1L8.5 8.5l.94-2.06 2.06-.94-2.06-.94L8.5 2.5l-.94 2.06-2.06.94zm10 10l.94 2.06.94-2.06 2.06-.94-2.06-.94-.94-2.06-.94 2.06-2.06.94z\"/><path d=\"M17.41 7.96l-1.37-1.37c-.4-.4-.92-.59-1.43-.59-.52 0-1.04.2-1.43.59L10.3 9.45l-7.72 7.72c-.78.78-.78 2.05 0 2.83L4 21.41c.39.39.9.59 1.41.59.51 0 1.02-.2 1.41-.59l7.78-7.78 2.81-2.81c.8-.78.8-2.07 0-2.86zM5.41 20L4 18.59l7.72-7.72 1.47 1.35L5.41 20z\"/>\n",
              "  </svg>\n",
              "      </button>\n",
              "      \n",
              "  <style>\n",
              "    .colab-df-container {\n",
              "      display:flex;\n",
              "      flex-wrap:wrap;\n",
              "      gap: 12px;\n",
              "    }\n",
              "\n",
              "    .colab-df-convert {\n",
              "      background-color: #E8F0FE;\n",
              "      border: none;\n",
              "      border-radius: 50%;\n",
              "      cursor: pointer;\n",
              "      display: none;\n",
              "      fill: #1967D2;\n",
              "      height: 32px;\n",
              "      padding: 0 0 0 0;\n",
              "      width: 32px;\n",
              "    }\n",
              "\n",
              "    .colab-df-convert:hover {\n",
              "      background-color: #E2EBFA;\n",
              "      box-shadow: 0px 1px 2px rgba(60, 64, 67, 0.3), 0px 1px 3px 1px rgba(60, 64, 67, 0.15);\n",
              "      fill: #174EA6;\n",
              "    }\n",
              "\n",
              "    [theme=dark] .colab-df-convert {\n",
              "      background-color: #3B4455;\n",
              "      fill: #D2E3FC;\n",
              "    }\n",
              "\n",
              "    [theme=dark] .colab-df-convert:hover {\n",
              "      background-color: #434B5C;\n",
              "      box-shadow: 0px 1px 3px 1px rgba(0, 0, 0, 0.15);\n",
              "      filter: drop-shadow(0px 1px 2px rgba(0, 0, 0, 0.3));\n",
              "      fill: #FFFFFF;\n",
              "    }\n",
              "  </style>\n",
              "\n",
              "      <script>\n",
              "        const buttonEl =\n",
              "          document.querySelector('#df-d54186fa-8492-4559-9ca9-ee86000579a9 button.colab-df-convert');\n",
              "        buttonEl.style.display =\n",
              "          google.colab.kernel.accessAllowed ? 'block' : 'none';\n",
              "\n",
              "        async function convertToInteractive(key) {\n",
              "          const element = document.querySelector('#df-d54186fa-8492-4559-9ca9-ee86000579a9');\n",
              "          const dataTable =\n",
              "            await google.colab.kernel.invokeFunction('convertToInteractive',\n",
              "                                                     [key], {});\n",
              "          if (!dataTable) return;\n",
              "\n",
              "          const docLinkHtml = 'Like what you see? Visit the ' +\n",
              "            '<a target=\"_blank\" href=https://colab.research.google.com/notebooks/data_table.ipynb>data table notebook</a>'\n",
              "            + ' to learn more about interactive tables.';\n",
              "          element.innerHTML = '';\n",
              "          dataTable['output_type'] = 'display_data';\n",
              "          await google.colab.output.renderOutput(dataTable, element);\n",
              "          const docLink = document.createElement('div');\n",
              "          docLink.innerHTML = docLinkHtml;\n",
              "          element.appendChild(docLink);\n",
              "        }\n",
              "      </script>\n",
              "    </div>\n",
              "  </div>\n",
              "  "
            ]
          },
          "metadata": {},
          "execution_count": 41
        }
      ],
      "source": [
        "noNums = []\n",
        "for i in range(len(df)):\n",
        "  noNums.append(''.join([i for i in df['content_tokenize'][i] if not i.isdigit()]))\n",
        "\n",
        "df['Statement'] = noNums\n",
        "df\n",
        ""
      ]
    },
    {
      "cell_type": "code",
      "execution_count": null,
      "metadata": {
        "id": "IHnQiGXdLnHt"
      },
      "outputs": [],
      "source": [
        "tfIdfVectorizer=TfidfVectorizer(use_idf=True, sublinear_tf=True)\n",
        "tfIdf = tfIdfVectorizer.fit_transform(df.Statement.tolist())"
      ]
    },
    {
      "cell_type": "code",
      "execution_count": null,
      "metadata": {
        "colab": {
          "base_uri": "https://localhost:8080/"
        },
        "id": "8WZPAkkmL3SU",
        "outputId": "c7f0d2d0-e4be-4c84-83b3-9f63b4ef6587"
      },
      "outputs": [
        {
          "output_type": "stream",
          "name": "stdout",
          "text": [
            "  (0, 16247)\t0.38735885646449675\n",
            "  (0, 11841)\t0.5163362008838631\n",
            "  (0, 7053)\t0.4504651690374504\n",
            "  (0, 8318)\t0.5885784503940015\n",
            "  (0, 7568)\t0.1844087394653349\n",
            "  (1, 12877)\t0.43686335135192\n",
            "  (1, 8653)\t0.6524046059583808\n",
            "  (1, 3438)\t0.6192888198327648\n",
            "  (2, 8654)\t0.7252744670929689\n",
            "  (2, 3438)\t0.688459837160462\n",
            "  (3, 9177)\t0.3736544148715948\n",
            "  (3, 11708)\t0.4586716211089509\n",
            "  (3, 3496)\t0.5229846549011559\n",
            "  (3, 16355)\t0.347627215963634\n",
            "  (3, 16398)\t0.3339944088283857\n",
            "  (3, 1396)\t0.3252035456490716\n",
            "  (3, 7568)\t0.19579448527523546\n",
            "  (4, 1339)\t0.578586714456593\n",
            "  (4, 14491)\t0.32377130567868484\n",
            "  (4, 7177)\t0.5398048792511205\n",
            "  (4, 6437)\t0.4092203260315892\n",
            "  (4, 16385)\t0.31868318526826533\n",
            "  (5, 9301)\t0.700715553680868\n",
            "  (5, 1339)\t0.49036845202017465\n",
            "  (5, 14491)\t0.2744052533652128\n",
            "  :\t:\n",
            "  (2165, 16032)\t0.04240651199095469\n",
            "  (2165, 9742)\t0.059108282325024526\n",
            "  (2165, 13355)\t0.061995481835476825\n",
            "  (2165, 14734)\t0.049188385108303256\n",
            "  (2165, 15634)\t0.05638355811655594\n",
            "  (2165, 9952)\t0.09469149744731552\n",
            "  (2165, 13219)\t0.08047623819762012\n",
            "  (2165, 13234)\t0.061995481835476825\n",
            "  (2165, 8628)\t0.043320826538567885\n",
            "  (2165, 6168)\t0.10289118486381335\n",
            "  (2165, 10045)\t0.0702788316192592\n",
            "  (2165, 15986)\t0.049307020495685555\n",
            "  (2165, 2833)\t0.048381753423812374\n",
            "  (2165, 260)\t0.07095792925913687\n",
            "  (2165, 16420)\t0.042483970328008165\n",
            "  (2165, 14767)\t0.0471391736405513\n",
            "  (2165, 5878)\t0.06954255341638044\n",
            "  (2165, 872)\t0.0644112730495238\n",
            "  (2165, 14824)\t0.14867307564034826\n",
            "  (2165, 3140)\t0.05289738233746708\n",
            "  (2165, 8445)\t0.03833645545657868\n",
            "  (2165, 8155)\t0.07742768707365774\n",
            "  (2165, 7982)\t0.11326570918242267\n",
            "  (2165, 14702)\t0.030518276438038183\n",
            "  (2165, 7568)\t0.03367142187307165\n"
          ]
        }
      ],
      "source": [
        "print(tfIdf)"
      ]
    },
    {
      "cell_type": "code",
      "execution_count": null,
      "metadata": {
        "colab": {
          "base_uri": "https://localhost:8080/"
        },
        "id": "Rja1ieiEL9YG",
        "outputId": "91dbfcae-3174-40ae-8998-e6da17ef15d1"
      },
      "outputs": [
        {
          "output_type": "stream",
          "name": "stdout",
          "text": [
            "(2166, 16650)\n"
          ]
        }
      ],
      "source": [
        "print(tfIdf.shape)"
      ]
    },
    {
      "cell_type": "code",
      "execution_count": null,
      "metadata": {
        "colab": {
          "base_uri": "https://localhost:8080/"
        },
        "id": "WDcWNArUMC2M",
        "outputId": "946dd673-6c7b-4946-8c86-acaad2efd94f"
      },
      "outputs": [
        {
          "output_type": "stream",
          "name": "stdout",
          "text": [
            "                   TF-IDF\n",
            "lowliv           0.725274\n",
            "dalit            0.688460\n",
            "pitch            0.000000\n",
            "pinski           0.000000\n",
            "pintsizedhilari  0.000000\n",
            "pioneer          0.000000\n",
            "piou             0.000000\n",
            "pipe             0.000000\n",
            "piper            0.000000\n",
            "piqu             0.000000\n"
          ]
        }
      ],
      "source": [
        "df2 = pd.DataFrame(tfIdf[2].T.todense(), index=tfIdfVectorizer.get_feature_names_out(), columns=[\"TF-IDF\"]) #for second entry only(just to check if working)\n",
        "df2 = df2.sort_values('TF-IDF', ascending=False)\n",
        "print (df2.head(10))"
      ]
    },
    {
      "cell_type": "code",
      "execution_count": null,
      "metadata": {
        "colab": {
          "base_uri": "https://localhost:8080/"
        },
        "id": "NHhq-kk1MO8-",
        "outputId": "47304a9d-0afc-4ff3-9729-5bc00b373236"
      },
      "outputs": [
        {
          "output_type": "stream",
          "name": "stdout",
          "text": [
            "      aaliyah  aam  aamir  aardman  aaron  aawip   ab  abandon  abbey  abbot  \\\n",
            "0         0.0  0.0    0.0      0.0    0.0    0.0  0.0      0.0    0.0    0.0   \n",
            "1         0.0  0.0    0.0      0.0    0.0    0.0  0.0      0.0    0.0    0.0   \n",
            "2         0.0  0.0    0.0      0.0    0.0    0.0  0.0      0.0    0.0    0.0   \n",
            "3         0.0  0.0    0.0      0.0    0.0    0.0  0.0      0.0    0.0    0.0   \n",
            "4         0.0  0.0    0.0      0.0    0.0    0.0  0.0      0.0    0.0    0.0   \n",
            "...       ...  ...    ...      ...    ...    ...  ...      ...    ...    ...   \n",
            "2161      0.0  0.0    0.0      0.0    0.0    0.0  0.0      0.0    0.0    0.0   \n",
            "2162      0.0  0.0    0.0      0.0    0.0    0.0  0.0      0.0    0.0    0.0   \n",
            "2163      0.0  0.0    0.0      0.0    0.0    0.0  0.0      0.0    0.0    0.0   \n",
            "2164      0.0  0.0    0.0      0.0    0.0    0.0  0.0      0.0    0.0    0.0   \n",
            "2165      0.0  0.0    0.0      0.0    0.0    0.0  0.0      0.0    0.0    0.0   \n",
            "\n",
            "      ...  zucker  zulu  zuth  zuwarrior  zwart  zwick  álvaro  ángel  émigré  \\\n",
            "0     ...     0.0   0.0   0.0        0.0    0.0    0.0     0.0    0.0     0.0   \n",
            "1     ...     0.0   0.0   0.0        0.0    0.0    0.0     0.0    0.0     0.0   \n",
            "2     ...     0.0   0.0   0.0        0.0    0.0    0.0     0.0    0.0     0.0   \n",
            "3     ...     0.0   0.0   0.0        0.0    0.0    0.0     0.0    0.0     0.0   \n",
            "4     ...     0.0   0.0   0.0        0.0    0.0    0.0     0.0    0.0     0.0   \n",
            "...   ...     ...   ...   ...        ...    ...    ...     ...    ...     ...   \n",
            "2161  ...     0.0   0.0   0.0        0.0    0.0    0.0     0.0    0.0     0.0   \n",
            "2162  ...     0.0   0.0   0.0        0.0    0.0    0.0     0.0    0.0     0.0   \n",
            "2163  ...     0.0   0.0   0.0        0.0    0.0    0.0     0.0    0.0     0.0   \n",
            "2164  ...     0.0   0.0   0.0        0.0    0.0    0.0     0.0    0.0     0.0   \n",
            "2165  ...     0.0   0.0   0.0        0.0    0.0    0.0     0.0    0.0     0.0   \n",
            "\n",
            "       ís  \n",
            "0     0.0  \n",
            "1     0.0  \n",
            "2     0.0  \n",
            "3     0.0  \n",
            "4     0.0  \n",
            "...   ...  \n",
            "2161  0.0  \n",
            "2162  0.0  \n",
            "2163  0.0  \n",
            "2164  0.0  \n",
            "2165  0.0  \n",
            "\n",
            "[2166 rows x 16650 columns]\n"
          ]
        }
      ],
      "source": [
        "dfx = pd.DataFrame(tfIdf.toarray(), columns = tfIdfVectorizer.get_feature_names_out())\n",
        "print(dfx)"
      ]
    },
    {
      "cell_type": "code",
      "execution_count": null,
      "metadata": {
        "id": "W03Qn2avMwfp"
      },
      "outputs": [],
      "source": [
        "def display_scores(vectorizer, tfidf_result):\n",
        "    scores = zip(vectorizer.get_feature_names_out(),\n",
        "                 np.asarray(tfidf_result.sum(axis=0)).ravel())\n",
        "    sorted_scores = sorted(scores, key=lambda x: x[1], reverse=True)\n",
        "    i=0\n",
        "    for item in sorted_scores:\n",
        "        print (\"{0:50} Score: {1}\".format(item[0], item[1]))\n",
        "        i = i+1\n",
        "        if (i > 25):\n",
        "          break"
      ]
    },
    {
      "cell_type": "code",
      "execution_count": null,
      "metadata": {
        "colab": {
          "base_uri": "https://localhost:8080/"
        },
        "id": "PbDMQy8QM4Lo",
        "outputId": "51fcfe50-77ac-47f8-84bb-4fa8b2904cf2"
      },
      "outputs": [
        {
          "output_type": "stream",
          "name": "stdout",
          "text": [
            "peopl                                              Score: 59.4690830586084\n",
            "the                                                Score: 57.61119467699608\n",
            "movi                                               Score: 54.45621774638888\n",
            "black                                              Score: 51.077769748777904\n",
            "br                                                 Score: 50.50900441110038\n",
            "film                                               Score: 50.47161824462515\n",
            "it                                                 Score: 46.0999014386861\n",
            "one                                                Score: 38.21432711522611\n",
            "hate                                               Score: 37.58676273306044\n",
            "women                                              Score: 37.16815851188252\n",
            "would                                              Score: 35.358242874242535\n",
            "good                                               Score: 34.76820617976939\n",
            "get                                                Score: 34.457034507923645\n",
            "like                                               Score: 33.90769658819701\n",
            "see                                                Score: 33.50168554494751\n",
            "thi                                                Score: 32.8171670258221\n",
            "love                                               Score: 32.562562135495746\n",
            "watch                                              Score: 28.056276127504326\n",
            "great                                              Score: 27.057877246073026\n",
            "time                                               Score: 26.900981644945617\n",
            "need                                               Score: 25.734807691280434\n",
            "white                                              Score: 25.716091248320282\n",
            "make                                               Score: 25.68218655407955\n",
            "want                                               Score: 25.496954014231033\n",
            "fuck                                               Score: 24.834459446494307\n",
            "stori                                              Score: 24.643653683460695\n"
          ]
        }
      ],
      "source": [
        "#top 25 words\n",
        "display_scores(tfIdfVectorizer, tfIdf)"
      ]
    },
    {
      "cell_type": "code",
      "execution_count": null,
      "metadata": {
        "colab": {
          "base_uri": "https://localhost:8080/"
        },
        "id": "iY-eR5nuNB1l",
        "outputId": "4537c128-f847-4b0c-9715-2d4c797a0144"
      },
      "outputs": [
        {
          "output_type": "stream",
          "name": "stdout",
          "text": [
            "(1732, 16650)\n",
            "(1732,)\n",
            "(434, 16650)\n",
            "(434,)\n"
          ]
        }
      ],
      "source": [
        "\n",
        "X=tfIdf.toarray()\n",
        "y = np.array(df.Sentiment.tolist())\n",
        "#Spltting\n",
        "X_train, X_test, y_train, y_test = train_test_split(X, y, test_size=0.2, random_state=0)\n",
        "\n",
        "print(X_train.shape)\n",
        "print(y_train.shape)\n",
        "print(X_test.shape)\n",
        "print(y_test.shape)"
      ]
    },
    {
      "cell_type": "code",
      "execution_count": null,
      "metadata": {
        "colab": {
          "base_uri": "https://localhost:8080/"
        },
        "id": "Mqp5mLHfOMoP",
        "outputId": "0b9c6ebb-0220-4f55-f2e0-ce7971af1715"
      },
      "outputs": [
        {
          "output_type": "stream",
          "name": "stdout",
          "text": [
            "[[  0   1]\n",
            " [944 788]]\n"
          ]
        }
      ],
      "source": [
        "#Training data biasness\n",
        "unique_elements, counts_elements = np.unique(y_train, return_counts=True)\n",
        "print(np.asarray((unique_elements, counts_elements)))"
      ]
    },
    {
      "cell_type": "code",
      "execution_count": null,
      "metadata": {
        "colab": {
          "base_uri": "https://localhost:8080/"
        },
        "id": "Lu7UGLkYO0EK",
        "outputId": "2d6a4475-93d1-47b8-cad7-9692ccd7221e"
      },
      "outputs": [
        {
          "output_type": "stream",
          "name": "stdout",
          "text": [
            "[[  0   1]\n",
            " [223 211]]\n"
          ]
        }
      ],
      "source": [
        "#Test Data\n",
        "unique_elements, counts_elements = np.unique(y_test, return_counts=True)\n",
        "print(np.asarray((unique_elements, counts_elements)))"
      ]
    },
    {
      "cell_type": "code",
      "execution_count": null,
      "metadata": {
        "id": "8mOLq0_MPDiT"
      },
      "outputs": [],
      "source": [
        "#Random oversampling on training data\n",
        "from imblearn.over_sampling import RandomOverSampler\n",
        "\n",
        "oversample = RandomOverSampler(sampling_strategy='not majority')\n",
        "X_over, y_over = oversample.fit_resample(X_train, y_train)"
      ]
    },
    {
      "cell_type": "code",
      "execution_count": null,
      "metadata": {
        "colab": {
          "base_uri": "https://localhost:8080/"
        },
        "id": "UbMJngXjPJwA",
        "outputId": "5cf37b39-be34-4305-eef4-6fac9c3ad819"
      },
      "outputs": [
        {
          "output_type": "stream",
          "name": "stdout",
          "text": [
            "(1888, 16650)\n",
            "(1888,)\n"
          ]
        }
      ],
      "source": [
        "print(X_over.shape)\n",
        "print(y_over.shape)"
      ]
    },
    {
      "cell_type": "code",
      "execution_count": null,
      "metadata": {
        "colab": {
          "base_uri": "https://localhost:8080/"
        },
        "id": "emGdzscCPN7A",
        "outputId": "62989167-18d6-4ee8-b0d6-5d40f7975d7e"
      },
      "outputs": [
        {
          "output_type": "stream",
          "name": "stdout",
          "text": [
            "[[  0   1]\n",
            " [944 944]]\n"
          ]
        }
      ],
      "source": [
        "unique_elements, counts_elements = np.unique(y_over, return_counts=True)\n",
        "print(np.asarray((unique_elements, counts_elements)))\n",
        ""
      ]
    },
    {
      "cell_type": "code",
      "execution_count": null,
      "metadata": {
        "id": "IBDpO7jaPUid"
      },
      "outputs": [],
      "source": [
        "def getStatsFromModel(model):\n",
        "  print(classification_report(y_test, y_pred))\n",
        "  disp = plot_precision_recall_curve(model, X_test, y_test)\n",
        "  disp.ax_.set_title('2-class Precision-Recall curve: '\n",
        "                   'AP={0:0.2f}')\n",
        "\n",
        "  logit_roc_auc = roc_auc_score(y_test, model.predict(X_test))\n",
        "  fpr, tpr, thresholds = roc_curve(y_test, model.predict_proba(X_test)[:,1])\n",
        "  plt.figure()\n",
        "  plt.plot(fpr, tpr, label='(area = %0.2f)' % logit_roc_auc)\n",
        "  plt.plot([0, 1], [0, 1],'r--')\n",
        "  plt.xlim([0.0, 1.0])\n",
        "  plt.ylim([0.0, 1.05])\n",
        "  plt.xlabel('False Positive Rate')\n",
        "  plt.ylabel('True Positive Rate')\n",
        "  plt.title('Receiver operating characteristic')\n",
        "  plt.legend(loc=\"lower right\")\n",
        "  plt.savefig('Log_ROC')\n",
        "  plt.show()"
      ]
    },
    {
      "cell_type": "code",
      "execution_count": null,
      "metadata": {
        "colab": {
          "base_uri": "https://localhost:8080/",
          "height": 687
        },
        "id": "VWprtIJVQN_p",
        "outputId": "07c2ce0f-7e26-4f06-b5b8-b31133fae78e"
      },
      "outputs": [
        {
          "output_type": "stream",
          "name": "stdout",
          "text": [
            "Score: 0.8847926267281107\n",
            "Confusion Matrix:\n",
            " [[223   0]\n",
            " [ 50 161]]\n",
            "Classification Report:\n",
            "               precision    recall  f1-score   support\n",
            "\n",
            "           0       0.82      1.00      0.90       223\n",
            "           1       1.00      0.76      0.87       211\n",
            "\n",
            "    accuracy                           0.88       434\n",
            "   macro avg       0.91      0.88      0.88       434\n",
            "weighted avg       0.91      0.88      0.88       434\n",
            "\n"
          ]
        },
        {
          "output_type": "display_data",
          "data": {
            "text/plain": [
              "<Figure size 640x480 with 2 Axes>"
            ],
            "image/png": "[encoded data removed]"
          },
          "metadata": {}
        }
      ],
      "source": [
        "#Gaussian Naive Bayes model\n",
        "from sklearn.naive_bayes import GaussianNB\n",
        "from sklearn.metrics import confusion_matrix, classification_report\n",
        "import matplotlib.pyplot as plt\n",
        "import seaborn as sns\n",
        "\n",
        "# fit a Gaussian Naive Bayes model on the imbalanced data\n",
        "gnb = GaussianNB()\n",
        "gnbmodel = gnb.fit(X_over, y_over)\n",
        "\n",
        "# make predictions on test set and evaluate performance\n",
        "y_pred = gnbmodel.predict(X_test)\n",
        "print(\"Score:\", gnbmodel.score(X_test, y_test))\n",
        "print(\"Confusion Matrix:\\n\", confusion_matrix(y_test, y_pred))\n",
        "print(\"Classification Report:\\n\", classification_report(y_test, y_pred))\n",
        "\n",
        "# plot the confusion matrix as a heatmap\n",
        "cm = confusion_matrix(y_test, y_pred)\n",
        "sns.heatmap(cm, annot=True, cmap='Blues', fmt='g')\n",
        "plt.xlabel('Predicted')\n",
        "plt.ylabel('True')\n",
        "plt.show()"
      ]
    },
    {
      "cell_type": "code",
      "source": [
        "#Random forest classifier\n",
        "\n",
        "from sklearn.ensemble import RandomForestClassifier\n",
        "from sklearn.metrics import classification_report, confusion_matrix\n",
        "from sklearn.model_selection import train_test_split\n",
        "import matplotlib.pyplot as plt\n",
        "\n",
        "# Train a random forest classifier\n",
        "rfc = RandomForestClassifier(n_estimators=100, random_state=42)\n",
        "rfc.fit(X_train, y_train)\n",
        "\n",
        "# Make predictions on test set and evaluate performance\n",
        "y_pred = rfc.predict(X_test)\n",
        "print(\"Score:\", rfc.score(X_test, y_test))\n",
        "\n",
        "# Get confusion matrix and classification report\n",
        "cm = confusion_matrix(y_test, y_pred)\n",
        "cr = classification_report(y_test, y_pred, output_dict=True)\n",
        "\n",
        "# Plot the confusion matrix as a bar chart\n",
        "fig, ax = plt.subplots(figsize=(8,6))\n",
        "ax.bar([\"Actual False\", \"Actual True\"], cm[0], label=\"Predicted False\")\n",
        "ax.bar([\"Actual False\", \"Actual True\"], cm[1], bottom=cm[0], label=\"Predicted True\")\n",
        "ax.set_xlabel(\"Actual Values\")\n",
        "ax.set_ylabel(\"Number of Predictions\")\n",
        "ax.set_title(\"Confusion Matrix\")\n",
        "ax.legend()\n",
        "plt.show()\n",
        "\n",
        "# Print the classification report\n",
        "print(\"Classification Report:\\n\")\n",
        "for label, metrics in cr.items():\n",
        "    if label != \"accuracy\":\n",
        "        print(f\"{label.capitalize()}:\\n  Precision: {metrics['precision']:.2f}\\n  Recall: {metrics['recall']:.2f}\\n  F1-score: {metrics['f1-score']:.2f}\\n  Support: {metrics['support']}\")\n",
        "    else:\n",
        "        print(f\"Accuracy: {metrics:.2f}\")"
      ],
      "metadata": {
        "colab": {
          "base_uri": "https://localhost:8080/",
          "height": 972
        },
        "id": "kKf-7FN2bGi_",
        "outputId": "feeb4256-b21a-431f-b96d-677e30e30be3"
      },
      "execution_count": null,
      "outputs": [
        {
          "output_type": "stream",
          "name": "stdout",
          "text": [
            "Score: 1.0\n"
          ]
        },
        {
          "output_type": "display_data",
          "data": {
            "text/plain": [
              "<Figure size 800x600 with 1 Axes>"
            ],
            "image/png": "[encoded data removed]"
          },
          "metadata": {}
        },
        {
          "output_type": "stream",
          "name": "stdout",
          "text": [
            "Classification Report:\n",
            "\n",
            "0:\n",
            "  Precision: 1.00\n",
            "  Recall: 1.00\n",
            "  F1-score: 1.00\n",
            "  Support: 223\n",
            "1:\n",
            "  Precision: 1.00\n",
            "  Recall: 1.00\n",
            "  F1-score: 1.00\n",
            "  Support: 211\n",
            "Accuracy: 1.00\n",
            "Macro avg:\n",
            "  Precision: 1.00\n",
            "  Recall: 1.00\n",
            "  F1-score: 1.00\n",
            "  Support: 434\n",
            "Weighted avg:\n",
            "  Precision: 1.00\n",
            "  Recall: 1.00\n",
            "  F1-score: 1.00\n",
            "  Support: 434\n"
          ]
        }
      ]
    },
    {
      "cell_type": "code",
      "source": [
        "from sklearn.linear_model import LogisticRegression\n",
        "from sklearn.metrics import accuracy_score, confusion_matrix, classification_report\n",
        "import seaborn as sns\n",
        "\n",
        "lgr = LogisticRegression()\n",
        "lgr.fit(X_over, y_over)\n",
        "y_pred = lgr.predict(X_test)\n",
        "print(\"Accuracy: \", accuracy_score(y_test, y_pred))\n",
        "print(\"Confusion Matrix: \\n\", confusion_matrix(y_test, y_pred))\n",
        "print(classification_report(y_test, y_pred))\n",
        "\n",
        "cm = confusion_matrix(y_test, y_pred)\n",
        "sns.heatmap(cm, annot=True, cmap='Blues')\n",
        "plt.xlabel('Predicted')\n",
        "plt.ylabel('True')\n",
        "plt.show()"
      ],
      "metadata": {
        "colab": {
          "base_uri": "https://localhost:8080/",
          "height": 670
        },
        "id": "r28PczeLbu_K",
        "outputId": "5768220f-1b9e-4746-e2c7-b8bcf1f523e0"
      },
      "execution_count": null,
      "outputs": [
        {
          "output_type": "stream",
          "name": "stdout",
          "text": [
            "Accuracy:  1.0\n",
            "Confusion Matrix: \n",
            " [[223   0]\n",
            " [  0 211]]\n",
            "              precision    recall  f1-score   support\n",
            "\n",
            "           0       1.00      1.00      1.00       223\n",
            "           1       1.00      1.00      1.00       211\n",
            "\n",
            "    accuracy                           1.00       434\n",
            "   macro avg       1.00      1.00      1.00       434\n",
            "weighted avg       1.00      1.00      1.00       434\n",
            "\n"
          ]
        },
        {
          "output_type": "display_data",
          "data": {
            "text/plain": [
              "<Figure size 640x480 with 2 Axes>"
            ],
            "image/png": "[encoded data removed]"
          },
          "metadata": {}
        }
      ]
    },
    {
      "cell_type": "code",
      "source": [
        "from sklearn.tree import DecisionTreeClassifier\n",
        "from sklearn.metrics import accuracy_score, confusion_matrix, classification_report\n",
        "import seaborn as sns\n",
        "\n",
        "dtc = DecisionTreeClassifier()\n",
        "dtc.fit(X_over, y_over)\n",
        "y_pred = dtc.predict(X_test)\n",
        "print(\"Accuracy: \", accuracy_score(y_test, y_pred))\n",
        "print(\"Confusion Matrix: \\n\", confusion_matrix(y_test, y_pred))\n",
        "print(classification_report(y_test, y_pred))\n",
        "\n",
        "cm = confusion_matrix(y_test, y_pred)\n",
        "sns.heatmap(cm, annot=True, cmap='Blues')\n",
        "plt.xlabel('Predicted')\n",
        "plt.ylabel('True')\n",
        "plt.show()"
      ],
      "metadata": {
        "colab": {
          "base_uri": "https://localhost:8080/",
          "height": 670
        },
        "id": "ePJbq_11gHaY",
        "outputId": "3b43d89f-108d-48a6-dda8-10bf4ec8f948"
      },
      "execution_count": null,
      "outputs": [
        {
          "output_type": "stream",
          "name": "stdout",
          "text": [
            "Accuracy:  0.988479262672811\n",
            "Confusion Matrix: \n",
            " [[219   4]\n",
            " [  1 210]]\n",
            "              precision    recall  f1-score   support\n",
            "\n",
            "           0       1.00      0.98      0.99       223\n",
            "           1       0.98      1.00      0.99       211\n",
            "\n",
            "    accuracy                           0.99       434\n",
            "   macro avg       0.99      0.99      0.99       434\n",
            "weighted avg       0.99      0.99      0.99       434\n",
            "\n"
          ]
        },
        {
          "output_type": "display_data",
          "data": {
            "text/plain": [
              "<Figure size 640x480 with 2 Axes>"
            ],
            "image/png": "[encoded data removed]"
          },
          "metadata": {}
        }
      ]
    },
    {
      "cell_type": "code",
      "source": [
        "from sklearn.metrics import accuracy_score, confusion_matrix, classification_report\n",
        "from sklearn.ensemble import AdaBoostClassifier\n",
        "import seaborn as sns\n",
        "import matplotlib.pyplot as plt\n",
        "\n",
        "abc = AdaBoostClassifier()\n",
        "abc.fit(X_over, y_over)\n",
        "y_pred = abc.predict(X_test)\n",
        "print(\"Accuracy: \", accuracy_score(y_test, y_pred))\n",
        "print(\"Confusion Matrix: \\n\", confusion_matrix(y_test, y_pred))\n",
        "print(classification_report(y_test, y_pred))\n",
        "\n",
        "cm = confusion_matrix(y_test, y_pred)\n",
        "sns.heatmap(cm, annot=True, cmap='Blues')\n",
        "plt.xlabel('Predicted')\n",
        "plt.ylabel('True')\n",
        "plt.show()"
      ],
      "metadata": {
        "colab": {
          "base_uri": "https://localhost:8080/",
          "height": 670
        },
        "id": "tNJ9E33QiTxb",
        "outputId": "4647b724-1de1-41f1-96b7-0cc585be998f"
      },
      "execution_count": null,
      "outputs": [
        {
          "output_type": "stream",
          "name": "stdout",
          "text": [
            "Accuracy:  0.9907834101382489\n",
            "Confusion Matrix: \n",
            " [[220   3]\n",
            " [  1 210]]\n",
            "              precision    recall  f1-score   support\n",
            "\n",
            "           0       1.00      0.99      0.99       223\n",
            "           1       0.99      1.00      0.99       211\n",
            "\n",
            "    accuracy                           0.99       434\n",
            "   macro avg       0.99      0.99      0.99       434\n",
            "weighted avg       0.99      0.99      0.99       434\n",
            "\n"
          ]
        },
        {
          "output_type": "display_data",
          "data": {
            "text/plain": [
              "<Figure size 640x480 with 2 Axes>"
            ],
            "image/png": "[encoded data removed]"
          },
          "metadata": {}
        }
      ]
    },
    {
      "cell_type": "code",
      "source": [
        "from textblob import TextBlob"
      ],
      "metadata": {
        "id": "n5hrJlMuksKV"
      },
      "execution_count": null,
      "outputs": []
    },
    {
      "cell_type": "code",
      "source": [
        "#Run sentiment analysis\n",
        "for rowIndex, row in df.iterrows():\n",
        "  for columnIndex, value in row.items():\n",
        "    if type(value) == str:\n",
        "      polarity = TextBlob(value).sentiment.polarity\n",
        "      subjectivity = TextBlob(value).sentiment.subjectivity\n",
        "      df.loc[rowIndex, [\"textblob_polarity\"]] = polarity\n",
        "      df.loc[rowIndex, [\"textblob_subjectivity\"]] = subjectivity"
      ],
      "metadata": {
        "id": "t3uO8EjKkz54"
      },
      "execution_count": null,
      "outputs": []
    },
    {
      "cell_type": "code",
      "source": [
        "!pip install pattern &> /dev/null"
      ],
      "metadata": {
        "id": "dcl8-e3blF5f"
      },
      "execution_count": null,
      "outputs": []
    },
    {
      "cell_type": "code",
      "source": [
        "import nltk\n",
        "from pattern.en import sentiment"
      ],
      "metadata": {
        "id": "DiEEznnOl7vf"
      },
      "execution_count": null,
      "outputs": []
    },
    {
      "cell_type": "code",
      "source": [
        "nltk.download('omw-1.4')"
      ],
      "metadata": {
        "colab": {
          "base_uri": "https://localhost:8080/"
        },
        "id": "kVnbOyEKmBn0",
        "outputId": "630be542-f001-4855-80b1-570f63a29c67"
      },
      "execution_count": null,
      "outputs": [
        {
          "output_type": "stream",
          "name": "stderr",
          "text": [
            "[nltk_data] Downloading package omw-1.4 to /root/nltk_data...\n"
          ]
        },
        {
          "output_type": "execute_result",
          "data": {
            "text/plain": [
              "True"
            ]
          },
          "metadata": {},
          "execution_count": 80
        }
      ]
    },
    {
      "cell_type": "code",
      "source": [
        "#Create empty columns\n",
        "df[\"pattern_polarity\"] = np.nan\n",
        "df[\"pattern_subjectivity\"] = np.nan\n",
        "\n",
        "#Run sentiment analysis\n",
        "for rowIndex,row in df.iterrows():\n",
        "  for columnIndex,value in row.items():\n",
        "    if columnIndex == \"Statement\":\n",
        "      scores = sentiment(value)\n",
        "      polarity = scores[0]\n",
        "      subjectivity = scores[1]\n",
        "      df.loc[rowIndex, \"pattern_polarity\"] = polarity\n",
        "      df.loc[rowIndex, \"pattern_subjectivity\"] = subjectivity"
      ],
      "metadata": {
        "id": "Hfv844e7mG-O"
      },
      "execution_count": null,
      "outputs": []
    },
    {
      "cell_type": "code",
      "source": [
        "df"
      ],
      "metadata": {
        "colab": {
          "base_uri": "https://localhost:8080/",
          "height": 565
        },
        "id": "b8PpIfjAmJ9L",
        "outputId": "e66bb541-6a51-4374-d4ff-63085af2670c"
      },
      "execution_count": null,
      "outputs": [
        {
          "output_type": "execute_result",
          "data": {
            "text/plain": [
              "      Sentiment                                   content_tokenize  \\\n",
              "0             1                         it legal husband rape wife   \n",
              "1             1                                  dalit lowlif scum   \n",
              "2             1                                       dalit lowliv   \n",
              "3             1            it better world women dare question men   \n",
              "4             1                    i work hard immigr take benefit   \n",
              "...         ...                                                ...   \n",
              "2161          0   in life first organ stone piedra spanish care...   \n",
              "2162          0   there film movi i consid favorit year the gos...   \n",
              "2163          0   1936 prolif year astair roger their second fi...   \n",
              "2164          0   soylent green one best disturb scienc fiction...   \n",
              "2165          0   and great rocknrol movi itself no matter evol...   \n",
              "\n",
              "                                              Statement  textblob_polarity  \\\n",
              "0                            it legal husband rape wife           0.200000   \n",
              "1                                     dalit lowlif scum          -0.300000   \n",
              "2                                          dalit lowliv           0.000000   \n",
              "3               it better world women dare question men           0.500000   \n",
              "4                       i work hard immigr take benefit          -0.291667   \n",
              "...                                                 ...                ...   \n",
              "2161   in life first organ stone piedra spanish care...           0.094848   \n",
              "2162   there film movi i consid favorit year the gos...           0.259286   \n",
              "2163    prolif year astair roger their second film r...           0.162037   \n",
              "2164   soylent green one best disturb scienc fiction...           0.154566   \n",
              "2165   and great rocknrol movi itself no matter evol...           0.306515   \n",
              "\n",
              "      textblob_subjectivity  pattern_polarity  pattern_subjectivity  \n",
              "0                  0.200000          0.200000              0.200000  \n",
              "1                  0.400000         -0.300000              0.400000  \n",
              "2                  0.000000          0.000000              0.000000  \n",
              "3                  0.500000          0.500000              0.500000  \n",
              "4                  0.541667         -0.291667              0.541667  \n",
              "...                     ...               ...                   ...  \n",
              "2161               0.388081          0.094848              0.388081  \n",
              "2162               0.475833          0.259286              0.475833  \n",
              "2163               0.381944          0.162037              0.381944  \n",
              "2164               0.411364          0.154566              0.411364  \n",
              "2165               0.523939          0.306515              0.523939  \n",
              "\n",
              "[2166 rows x 7 columns]"
            ],
            "text/html": [
              "\n",
              "  <div id=\"df-9f319525-b14c-4028-a89f-a73b53fe2303\">\n",
              "    <div class=\"colab-df-container\">\n",
              "      <div>\n",
              "<style scoped>\n",
              "    .dataframe tbody tr th:only-of-type {\n",
              "        vertical-align: middle;\n",
              "    }\n",
              "\n",
              "    .dataframe tbody tr th {\n",
              "        vertical-align: top;\n",
              "    }\n",
              "\n",
              "    .dataframe thead th {\n",
              "        text-align: right;\n",
              "    }\n",
              "</style>\n",
              "<table border=\"1\" class=\"dataframe\">\n",
              "  <thead>\n",
              "    <tr style=\"text-align: right;\">\n",
              "      <th></th>\n",
              "      <th>Sentiment</th>\n",
              "      <th>content_tokenize</th>\n",
              "      <th>Statement</th>\n",
              "      <th>textblob_polarity</th>\n",
              "      <th>textblob_subjectivity</th>\n",
              "      <th>pattern_polarity</th>\n",
              "      <th>pattern_subjectivity</th>\n",
              "    </tr>\n",
              "  </thead>\n",
              "  <tbody>\n",
              "    <tr>\n",
              "      <th>0</th>\n",
              "      <td>1</td>\n",
              "      <td>it legal husband rape wife</td>\n",
              "      <td>it legal husband rape wife</td>\n",
              "      <td>0.200000</td>\n",
              "      <td>0.200000</td>\n",
              "      <td>0.200000</td>\n",
              "      <td>0.200000</td>\n",
              "    </tr>\n",
              "    <tr>\n",
              "      <th>1</th>\n",
              "      <td>1</td>\n",
              "      <td>dalit lowlif scum</td>\n",
              "      <td>dalit lowlif scum</td>\n",
              "      <td>-0.300000</td>\n",
              "      <td>0.400000</td>\n",
              "      <td>-0.300000</td>\n",
              "      <td>0.400000</td>\n",
              "    </tr>\n",
              "    <tr>\n",
              "      <th>2</th>\n",
              "      <td>1</td>\n",
              "      <td>dalit lowliv</td>\n",
              "      <td>dalit lowliv</td>\n",
              "      <td>0.000000</td>\n",
              "      <td>0.000000</td>\n",
              "      <td>0.000000</td>\n",
              "      <td>0.000000</td>\n",
              "    </tr>\n",
              "    <tr>\n",
              "      <th>3</th>\n",
              "      <td>1</td>\n",
              "      <td>it better world women dare question men</td>\n",
              "      <td>it better world women dare question men</td>\n",
              "      <td>0.500000</td>\n",
              "      <td>0.500000</td>\n",
              "      <td>0.500000</td>\n",
              "      <td>0.500000</td>\n",
              "    </tr>\n",
              "    <tr>\n",
              "      <th>4</th>\n",
              "      <td>1</td>\n",
              "      <td>i work hard immigr take benefit</td>\n",
              "      <td>i work hard immigr take benefit</td>\n",
              "      <td>-0.291667</td>\n",
              "      <td>0.541667</td>\n",
              "      <td>-0.291667</td>\n",
              "      <td>0.541667</td>\n",
              "    </tr>\n",
              "    <tr>\n",
              "      <th>...</th>\n",
              "      <td>...</td>\n",
              "      <td>...</td>\n",
              "      <td>...</td>\n",
              "      <td>...</td>\n",
              "      <td>...</td>\n",
              "      <td>...</td>\n",
              "      <td>...</td>\n",
              "    </tr>\n",
              "    <tr>\n",
              "      <th>2161</th>\n",
              "      <td>0</td>\n",
              "      <td>in life first organ stone piedra spanish care...</td>\n",
              "      <td>in life first organ stone piedra spanish care...</td>\n",
              "      <td>0.094848</td>\n",
              "      <td>0.388081</td>\n",
              "      <td>0.094848</td>\n",
              "      <td>0.388081</td>\n",
              "    </tr>\n",
              "    <tr>\n",
              "      <th>2162</th>\n",
              "      <td>0</td>\n",
              "      <td>there film movi i consid favorit year the gos...</td>\n",
              "      <td>there film movi i consid favorit year the gos...</td>\n",
              "      <td>0.259286</td>\n",
              "      <td>0.475833</td>\n",
              "      <td>0.259286</td>\n",
              "      <td>0.475833</td>\n",
              "    </tr>\n",
              "    <tr>\n",
              "      <th>2163</th>\n",
              "      <td>0</td>\n",
              "      <td>1936 prolif year astair roger their second fi...</td>\n",
              "      <td>prolif year astair roger their second film r...</td>\n",
              "      <td>0.162037</td>\n",
              "      <td>0.381944</td>\n",
              "      <td>0.162037</td>\n",
              "      <td>0.381944</td>\n",
              "    </tr>\n",
              "    <tr>\n",
              "      <th>2164</th>\n",
              "      <td>0</td>\n",
              "      <td>soylent green one best disturb scienc fiction...</td>\n",
              "      <td>soylent green one best disturb scienc fiction...</td>\n",
              "      <td>0.154566</td>\n",
              "      <td>0.411364</td>\n",
              "      <td>0.154566</td>\n",
              "      <td>0.411364</td>\n",
              "    </tr>\n",
              "    <tr>\n",
              "      <th>2165</th>\n",
              "      <td>0</td>\n",
              "      <td>and great rocknrol movi itself no matter evol...</td>\n",
              "      <td>and great rocknrol movi itself no matter evol...</td>\n",
              "      <td>0.306515</td>\n",
              "      <td>0.523939</td>\n",
              "      <td>0.306515</td>\n",
              "      <td>0.523939</td>\n",
              "    </tr>\n",
              "  </tbody>\n",
              "</table>\n",
              "<p>2166 rows × 7 columns</p>\n",
              "</div>\n",
              "      <button class=\"colab-df-convert\" onclick=\"convertToInteractive('df-9f319525-b14c-4028-a89f-a73b53fe2303')\"\n",
              "              title=\"Convert this dataframe to an interactive table.\"\n",
              "              style=\"display:none;\">\n",
              "        \n",
              "  <svg xmlns=\"http://www.w3.org/2000/svg\" height=\"24px\"viewBox=\"0 0 24 24\"\n",
              "       width=\"24px\">\n",
              "    <path d=\"M0 0h24v24H0V0z\" fill=\"none\"/>\n",
              "    <path d=\"M18.56 5.44l.94 2.06.94-2.06 2.06-.94-2.06-.94-.94-2.06-.94 2.06-2.06.94zm-11 1L8.5 8.5l.94-2.06 2.06-.94-2.06-.94L8.5 2.5l-.94 2.06-2.06.94zm10 10l.94 2.06.94-2.06 2.06-.94-2.06-.94-.94-2.06-.94 2.06-2.06.94z\"/><path d=\"M17.41 7.96l-1.37-1.37c-.4-.4-.92-.59-1.43-.59-.52 0-1.04.2-1.43.59L10.3 9.45l-7.72 7.72c-.78.78-.78 2.05 0 2.83L4 21.41c.39.39.9.59 1.41.59.51 0 1.02-.2 1.41-.59l7.78-7.78 2.81-2.81c.8-.78.8-2.07 0-2.86zM5.41 20L4 18.59l7.72-7.72 1.47 1.35L5.41 20z\"/>\n",
              "  </svg>\n",
              "      </button>\n",
              "      \n",
              "  <style>\n",
              "    .colab-df-container {\n",
              "      display:flex;\n",
              "      flex-wrap:wrap;\n",
              "      gap: 12px;\n",
              "    }\n",
              "\n",
              "    .colab-df-convert {\n",
              "      background-color: #E8F0FE;\n",
              "      border: none;\n",
              "      border-radius: 50%;\n",
              "      cursor: pointer;\n",
              "      display: none;\n",
              "      fill: #1967D2;\n",
              "      height: 32px;\n",
              "      padding: 0 0 0 0;\n",
              "      width: 32px;\n",
              "    }\n",
              "\n",
              "    .colab-df-convert:hover {\n",
              "      background-color: #E2EBFA;\n",
              "      box-shadow: 0px 1px 2px rgba(60, 64, 67, 0.3), 0px 1px 3px 1px rgba(60, 64, 67, 0.15);\n",
              "      fill: #174EA6;\n",
              "    }\n",
              "\n",
              "    [theme=dark] .colab-df-convert {\n",
              "      background-color: #3B4455;\n",
              "      fill: #D2E3FC;\n",
              "    }\n",
              "\n",
              "    [theme=dark] .colab-df-convert:hover {\n",
              "      background-color: #434B5C;\n",
              "      box-shadow: 0px 1px 3px 1px rgba(0, 0, 0, 0.15);\n",
              "      filter: drop-shadow(0px 1px 2px rgba(0, 0, 0, 0.3));\n",
              "      fill: #FFFFFF;\n",
              "    }\n",
              "  </style>\n",
              "\n",
              "      <script>\n",
              "        const buttonEl =\n",
              "          document.querySelector('#df-9f319525-b14c-4028-a89f-a73b53fe2303 button.colab-df-convert');\n",
              "        buttonEl.style.display =\n",
              "          google.colab.kernel.accessAllowed ? 'block' : 'none';\n",
              "\n",
              "        async function convertToInteractive(key) {\n",
              "          const element = document.querySelector('#df-9f319525-b14c-4028-a89f-a73b53fe2303');\n",
              "          const dataTable =\n",
              "            await google.colab.kernel.invokeFunction('convertToInteractive',\n",
              "                                                     [key], {});\n",
              "          if (!dataTable) return;\n",
              "\n",
              "          const docLinkHtml = 'Like what you see? Visit the ' +\n",
              "            '<a target=\"_blank\" href=https://colab.research.google.com/notebooks/data_table.ipynb>data table notebook</a>'\n",
              "            + ' to learn more about interactive tables.';\n",
              "          element.innerHTML = '';\n",
              "          dataTable['output_type'] = 'display_data';\n",
              "          await google.colab.output.renderOutput(dataTable, element);\n",
              "          const docLink = document.createElement('div');\n",
              "          docLink.innerHTML = docLinkHtml;\n",
              "          element.appendChild(docLink);\n",
              "        }\n",
              "      </script>\n",
              "    </div>\n",
              "  </div>\n",
              "  "
            ]
          },
          "metadata": {},
          "execution_count": 84
        }
      ]
    },
    {
      "cell_type": "code",
      "source": [
        "import matplotlib.pyplot as plt\n",
        "\n",
        "# Count the number of positive, negative, and neutral values\n",
        "positive_count = len(df[df['pattern_polarity'] > 0])\n",
        "negative_count = len(df[df['pattern_polarity'] < 0])\n",
        "neutral_count = len(df[df['pattern_polarity'] == 0])\n",
        "\n",
        "# Create a list of counts for each category\n",
        "counts = [positive_count, negative_count, neutral_count]\n",
        "\n",
        "# Define the labels for each category\n",
        "labels = ['Positive', 'Negative', 'Neutral']\n",
        "\n",
        "# Define the colors for each category\n",
        "colors = ['#77DD77', '#FF6961', '#AEC6CF']\n",
        "\n",
        "# Create the pie chart\n",
        "plt.pie(counts, labels=labels, colors=colors, autopct='%1.1f%%', startangle=90)\n",
        "\n",
        "# Add a title to the chart\n",
        "plt.title('Distribution of Pattern Polarity')\n",
        "\n",
        "# Show the chart\n",
        "plt.show()"
      ],
      "metadata": {
        "colab": {
          "base_uri": "https://localhost:8080/",
          "height": 428
        },
        "id": "XNWi1KzOn2Ae",
        "outputId": "77ea10d3-9f7f-4d81-f2f5-16bb676c1b21"
      },
      "execution_count": null,
      "outputs": [
        {
          "output_type": "display_data",
          "data": {
            "text/plain": [
              "<Figure size 640x480 with 1 Axes>"
            ],
            "image/png": "[encoded data removed]"
          },
          "metadata": {}
        }
      ]
    },
    {
      "cell_type": "code",
      "source": [
        "wrong_positive = df[(df['Sentiment'] == 0) & ((df['pattern_polarity'] < 0))]\n",
        "num_wrong_positive = len(wrong_positive)\n",
        "print(\"Number of Positive/neutral sentiments with negative polarity:\", num_wrong_positive)"
      ],
      "metadata": {
        "colab": {
          "base_uri": "https://localhost:8080/"
        },
        "id": "ASQrvfiioVaq",
        "outputId": "165c771e-effc-4094-a902-cb800309f525"
      },
      "execution_count": null,
      "outputs": [
        {
          "output_type": "stream",
          "name": "stdout",
          "text": [
            "Number of Positive/neutral sentiments with negative polarity: 120\n"
          ]
        }
      ]
    },
    {
      "cell_type": "code",
      "source": [
        "wrong_positive"
      ],
      "metadata": {
        "colab": {
          "base_uri": "https://localhost:8080/",
          "height": 633
        },
        "id": "i38L9Z1qqa5R",
        "outputId": "079e855d-22b6-46c2-9643-c5f6f20e38cd"
      },
      "execution_count": null,
      "outputs": [
        {
          "output_type": "execute_result",
          "data": {
            "text/plain": [
              "      Sentiment                                   content_tokenize  \\\n",
              "1007          0   some film simpli remad thi one them in bad fi...   \n",
              "1009          0   after success die hard sequel surpris realli ...   \n",
              "1013          0   war movi hollywood genr done redon mani time ...   \n",
              "1014          0   taut organ grip edward dmytryk crossfir disti...   \n",
              "1030          0   i thought mukhsin wonder written it entertain...   \n",
              "...         ...                                                ...   \n",
              "2083          0   a gritti look new york citi dock worker thi c...   \n",
              "2084          0   i saw movi tonight preview show fantast it we...   \n",
              "2104          0   thi movi made daiei studio known gamera movi ...   \n",
              "2151          0   in new york andi hanson philip seymour hoffma...   \n",
              "2152          0   if need cheer cold weekday even film you exce...   \n",
              "\n",
              "                                              Statement  textblob_polarity  \\\n",
              "1007   some film simpli remad thi one them in bad fi...          -0.002543   \n",
              "1009   after success die hard sequel surpris realli ...          -0.001087   \n",
              "1013   war movi hollywood genr done redon mani time ...          -0.071314   \n",
              "1014   taut organ grip edward dmytryk crossfir disti...          -0.060794   \n",
              "1030   i thought mukhsin wonder written it entertain...          -0.055595   \n",
              "...                                                 ...                ...   \n",
              "2083   a gritti look new york citi dock worker thi c...          -0.108902   \n",
              "2084   i saw movi tonight preview show fantast it we...          -0.002222   \n",
              "2104   thi movi made daiei studio known gamera movi ...          -0.022427   \n",
              "2151   in new york andi hanson philip seymour hoffma...          -0.084307   \n",
              "2152   if need cheer cold weekday even film you exce...          -0.050000   \n",
              "\n",
              "      textblob_subjectivity  pattern_polarity  pattern_subjectivity  \n",
              "1007               0.552165         -0.002543              0.552165  \n",
              "1009               0.510024         -0.001087              0.510024  \n",
              "1013               0.456006         -0.071314              0.456006  \n",
              "1014               0.397654         -0.060794              0.397654  \n",
              "1030               0.630238         -0.055595              0.630238  \n",
              "...                     ...               ...                   ...  \n",
              "2083               0.530303         -0.108902              0.530303  \n",
              "2084               0.291111         -0.002222              0.291111  \n",
              "2104               0.563085         -0.022427              0.563085  \n",
              "2151               0.549134         -0.084307              0.549134  \n",
              "2152               0.800000         -0.050000              0.800000  \n",
              "\n",
              "[120 rows x 7 columns]"
            ],
            "text/html": [
              "\n",
              "  <div id=\"df-e8e45d41-328e-45dd-8a1f-fcd4baff2111\">\n",
              "    <div class=\"colab-df-container\">\n",
              "      <div>\n",
              "<style scoped>\n",
              "    .dataframe tbody tr th:only-of-type {\n",
              "        vertical-align: middle;\n",
              "    }\n",
              "\n",
              "    .dataframe tbody tr th {\n",
              "        vertical-align: top;\n",
              "    }\n",
              "\n",
              "    .dataframe thead th {\n",
              "        text-align: right;\n",
              "    }\n",
              "</style>\n",
              "<table border=\"1\" class=\"dataframe\">\n",
              "  <thead>\n",
              "    <tr style=\"text-align: right;\">\n",
              "      <th></th>\n",
              "      <th>Sentiment</th>\n",
              "      <th>content_tokenize</th>\n",
              "      <th>Statement</th>\n",
              "      <th>textblob_polarity</th>\n",
              "      <th>textblob_subjectivity</th>\n",
              "      <th>pattern_polarity</th>\n",
              "      <th>pattern_subjectivity</th>\n",
              "    </tr>\n",
              "  </thead>\n",
              "  <tbody>\n",
              "    <tr>\n",
              "      <th>1007</th>\n",
              "      <td>0</td>\n",
              "      <td>some film simpli remad thi one them in bad fi...</td>\n",
              "      <td>some film simpli remad thi one them in bad fi...</td>\n",
              "      <td>-0.002543</td>\n",
              "      <td>0.552165</td>\n",
              "      <td>-0.002543</td>\n",
              "      <td>0.552165</td>\n",
              "    </tr>\n",
              "    <tr>\n",
              "      <th>1009</th>\n",
              "      <td>0</td>\n",
              "      <td>after success die hard sequel surpris realli ...</td>\n",
              "      <td>after success die hard sequel surpris realli ...</td>\n",
              "      <td>-0.001087</td>\n",
              "      <td>0.510024</td>\n",
              "      <td>-0.001087</td>\n",
              "      <td>0.510024</td>\n",
              "    </tr>\n",
              "    <tr>\n",
              "      <th>1013</th>\n",
              "      <td>0</td>\n",
              "      <td>war movi hollywood genr done redon mani time ...</td>\n",
              "      <td>war movi hollywood genr done redon mani time ...</td>\n",
              "      <td>-0.071314</td>\n",
              "      <td>0.456006</td>\n",
              "      <td>-0.071314</td>\n",
              "      <td>0.456006</td>\n",
              "    </tr>\n",
              "    <tr>\n",
              "      <th>1014</th>\n",
              "      <td>0</td>\n",
              "      <td>taut organ grip edward dmytryk crossfir disti...</td>\n",
              "      <td>taut organ grip edward dmytryk crossfir disti...</td>\n",
              "      <td>-0.060794</td>\n",
              "      <td>0.397654</td>\n",
              "      <td>-0.060794</td>\n",
              "      <td>0.397654</td>\n",
              "    </tr>\n",
              "    <tr>\n",
              "      <th>1030</th>\n",
              "      <td>0</td>\n",
              "      <td>i thought mukhsin wonder written it entertain...</td>\n",
              "      <td>i thought mukhsin wonder written it entertain...</td>\n",
              "      <td>-0.055595</td>\n",
              "      <td>0.630238</td>\n",
              "      <td>-0.055595</td>\n",
              "      <td>0.630238</td>\n",
              "    </tr>\n",
              "    <tr>\n",
              "      <th>...</th>\n",
              "      <td>...</td>\n",
              "      <td>...</td>\n",
              "      <td>...</td>\n",
              "      <td>...</td>\n",
              "      <td>...</td>\n",
              "      <td>...</td>\n",
              "      <td>...</td>\n",
              "    </tr>\n",
              "    <tr>\n",
              "      <th>2083</th>\n",
              "      <td>0</td>\n",
              "      <td>a gritti look new york citi dock worker thi c...</td>\n",
              "      <td>a gritti look new york citi dock worker thi c...</td>\n",
              "      <td>-0.108902</td>\n",
              "      <td>0.530303</td>\n",
              "      <td>-0.108902</td>\n",
              "      <td>0.530303</td>\n",
              "    </tr>\n",
              "    <tr>\n",
              "      <th>2084</th>\n",
              "      <td>0</td>\n",
              "      <td>i saw movi tonight preview show fantast it we...</td>\n",
              "      <td>i saw movi tonight preview show fantast it we...</td>\n",
              "      <td>-0.002222</td>\n",
              "      <td>0.291111</td>\n",
              "      <td>-0.002222</td>\n",
              "      <td>0.291111</td>\n",
              "    </tr>\n",
              "    <tr>\n",
              "      <th>2104</th>\n",
              "      <td>0</td>\n",
              "      <td>thi movi made daiei studio known gamera movi ...</td>\n",
              "      <td>thi movi made daiei studio known gamera movi ...</td>\n",
              "      <td>-0.022427</td>\n",
              "      <td>0.563085</td>\n",
              "      <td>-0.022427</td>\n",
              "      <td>0.563085</td>\n",
              "    </tr>\n",
              "    <tr>\n",
              "      <th>2151</th>\n",
              "      <td>0</td>\n",
              "      <td>in new york andi hanson philip seymour hoffma...</td>\n",
              "      <td>in new york andi hanson philip seymour hoffma...</td>\n",
              "      <td>-0.084307</td>\n",
              "      <td>0.549134</td>\n",
              "      <td>-0.084307</td>\n",
              "      <td>0.549134</td>\n",
              "    </tr>\n",
              "    <tr>\n",
              "      <th>2152</th>\n",
              "      <td>0</td>\n",
              "      <td>if need cheer cold weekday even film you exce...</td>\n",
              "      <td>if need cheer cold weekday even film you exce...</td>\n",
              "      <td>-0.050000</td>\n",
              "      <td>0.800000</td>\n",
              "      <td>-0.050000</td>\n",
              "      <td>0.800000</td>\n",
              "    </tr>\n",
              "  </tbody>\n",
              "</table>\n",
              "<p>120 rows × 7 columns</p>\n",
              "</div>\n",
              "      <button class=\"colab-df-convert\" onclick=\"convertToInteractive('df-e8e45d41-328e-45dd-8a1f-fcd4baff2111')\"\n",
              "              title=\"Convert this dataframe to an interactive table.\"\n",
              "              style=\"display:none;\">\n",
              "        \n",
              "  <svg xmlns=\"http://www.w3.org/2000/svg\" height=\"24px\"viewBox=\"0 0 24 24\"\n",
              "       width=\"24px\">\n",
              "    <path d=\"M0 0h24v24H0V0z\" fill=\"none\"/>\n",
              "    <path d=\"M18.56 5.44l.94 2.06.94-2.06 2.06-.94-2.06-.94-.94-2.06-.94 2.06-2.06.94zm-11 1L8.5 8.5l.94-2.06 2.06-.94-2.06-.94L8.5 2.5l-.94 2.06-2.06.94zm10 10l.94 2.06.94-2.06 2.06-.94-2.06-.94-.94-2.06-.94 2.06-2.06.94z\"/><path d=\"M17.41 7.96l-1.37-1.37c-.4-.4-.92-.59-1.43-.59-.52 0-1.04.2-1.43.59L10.3 9.45l-7.72 7.72c-.78.78-.78 2.05 0 2.83L4 21.41c.39.39.9.59 1.41.59.51 0 1.02-.2 1.41-.59l7.78-7.78 2.81-2.81c.8-.78.8-2.07 0-2.86zM5.41 20L4 18.59l7.72-7.72 1.47 1.35L5.41 20z\"/>\n",
              "  </svg>\n",
              "      </button>\n",
              "      \n",
              "  <style>\n",
              "    .colab-df-container {\n",
              "      display:flex;\n",
              "      flex-wrap:wrap;\n",
              "      gap: 12px;\n",
              "    }\n",
              "\n",
              "    .colab-df-convert {\n",
              "      background-color: #E8F0FE;\n",
              "      border: none;\n",
              "      border-radius: 50%;\n",
              "      cursor: pointer;\n",
              "      display: none;\n",
              "      fill: #1967D2;\n",
              "      height: 32px;\n",
              "      padding: 0 0 0 0;\n",
              "      width: 32px;\n",
              "    }\n",
              "\n",
              "    .colab-df-convert:hover {\n",
              "      background-color: #E2EBFA;\n",
              "      box-shadow: 0px 1px 2px rgba(60, 64, 67, 0.3), 0px 1px 3px 1px rgba(60, 64, 67, 0.15);\n",
              "      fill: #174EA6;\n",
              "    }\n",
              "\n",
              "    [theme=dark] .colab-df-convert {\n",
              "      background-color: #3B4455;\n",
              "      fill: #D2E3FC;\n",
              "    }\n",
              "\n",
              "    [theme=dark] .colab-df-convert:hover {\n",
              "      background-color: #434B5C;\n",
              "      box-shadow: 0px 1px 3px 1px rgba(0, 0, 0, 0.15);\n",
              "      filter: drop-shadow(0px 1px 2px rgba(0, 0, 0, 0.3));\n",
              "      fill: #FFFFFF;\n",
              "    }\n",
              "  </style>\n",
              "\n",
              "      <script>\n",
              "        const buttonEl =\n",
              "          document.querySelector('#df-e8e45d41-328e-45dd-8a1f-fcd4baff2111 button.colab-df-convert');\n",
              "        buttonEl.style.display =\n",
              "          google.colab.kernel.accessAllowed ? 'block' : 'none';\n",
              "\n",
              "        async function convertToInteractive(key) {\n",
              "          const element = document.querySelector('#df-e8e45d41-328e-45dd-8a1f-fcd4baff2111');\n",
              "          const dataTable =\n",
              "            await google.colab.kernel.invokeFunction('convertToInteractive',\n",
              "                                                     [key], {});\n",
              "          if (!dataTable) return;\n",
              "\n",
              "          const docLinkHtml = 'Like what you see? Visit the ' +\n",
              "            '<a target=\"_blank\" href=https://colab.research.google.com/notebooks/data_table.ipynb>data table notebook</a>'\n",
              "            + ' to learn more about interactive tables.';\n",
              "          element.innerHTML = '';\n",
              "          dataTable['output_type'] = 'display_data';\n",
              "          await google.colab.output.renderOutput(dataTable, element);\n",
              "          const docLink = document.createElement('div');\n",
              "          docLink.innerHTML = docLinkHtml;\n",
              "          element.appendChild(docLink);\n",
              "        }\n",
              "      </script>\n",
              "    </div>\n",
              "  </div>\n",
              "  "
            ]
          },
          "metadata": {},
          "execution_count": 92
        }
      ]
    },
    {
      "cell_type": "code",
      "source": [
        "wrong_positive = wrong_positive[['Statement', 'Sentiment', 'pattern_polarity']]\n",
        "wrong_positive.head(10)"
      ],
      "metadata": {
        "colab": {
          "base_uri": "https://localhost:8080/",
          "height": 359
        },
        "id": "SUAlFxbgqnfu",
        "outputId": "3d464003-7f6f-4ca2-9ef7-b1af6b1e8890"
      },
      "execution_count": null,
      "outputs": [
        {
          "output_type": "execute_result",
          "data": {
            "text/plain": [
              "                                              Statement  Sentiment  \\\n",
              "1007   some film simpli remad thi one them in bad fi...          0   \n",
              "1009   after success die hard sequel surpris realli ...          0   \n",
              "1013   war movi hollywood genr done redon mani time ...          0   \n",
              "1014   taut organ grip edward dmytryk crossfir disti...          0   \n",
              "1030   i thought mukhsin wonder written it entertain...          0   \n",
              "1033   the last hard men find jame coburn outlaw lon...          0   \n",
              "1034   thi film took surpris i make habit find littl...          0   \n",
              "1039   daniel daylewi versatil actor aliv english ar...          0   \n",
              "1041   thi short film inspir soontob full length fea...          0   \n",
              "1042   i bought game impuls buy walmart i glad i did...          0   \n",
              "\n",
              "      pattern_polarity  \n",
              "1007         -0.002543  \n",
              "1009         -0.001087  \n",
              "1013         -0.071314  \n",
              "1014         -0.060794  \n",
              "1030         -0.055595  \n",
              "1033         -0.016319  \n",
              "1034         -0.033333  \n",
              "1039         -0.146779  \n",
              "1041         -0.010937  \n",
              "1042         -0.013636  "
            ],
            "text/html": [
              "\n",
              "  <div id=\"df-a1f0efa7-390b-4c89-8a55-18f6544ff59f\">\n",
              "    <div class=\"colab-df-container\">\n",
              "      <div>\n",
              "<style scoped>\n",
              "    .dataframe tbody tr th:only-of-type {\n",
              "        vertical-align: middle;\n",
              "    }\n",
              "\n",
              "    .dataframe tbody tr th {\n",
              "        vertical-align: top;\n",
              "    }\n",
              "\n",
              "    .dataframe thead th {\n",
              "        text-align: right;\n",
              "    }\n",
              "</style>\n",
              "<table border=\"1\" class=\"dataframe\">\n",
              "  <thead>\n",
              "    <tr style=\"text-align: right;\">\n",
              "      <th></th>\n",
              "      <th>Statement</th>\n",
              "      <th>Sentiment</th>\n",
              "      <th>pattern_polarity</th>\n",
              "    </tr>\n",
              "  </thead>\n",
              "  <tbody>\n",
              "    <tr>\n",
              "      <th>1007</th>\n",
              "      <td>some film simpli remad thi one them in bad fi...</td>\n",
              "      <td>0</td>\n",
              "      <td>-0.002543</td>\n",
              "    </tr>\n",
              "    <tr>\n",
              "      <th>1009</th>\n",
              "      <td>after success die hard sequel surpris realli ...</td>\n",
              "      <td>0</td>\n",
              "      <td>-0.001087</td>\n",
              "    </tr>\n",
              "    <tr>\n",
              "      <th>1013</th>\n",
              "      <td>war movi hollywood genr done redon mani time ...</td>\n",
              "      <td>0</td>\n",
              "      <td>-0.071314</td>\n",
              "    </tr>\n",
              "    <tr>\n",
              "      <th>1014</th>\n",
              "      <td>taut organ grip edward dmytryk crossfir disti...</td>\n",
              "      <td>0</td>\n",
              "      <td>-0.060794</td>\n",
              "    </tr>\n",
              "    <tr>\n",
              "      <th>1030</th>\n",
              "      <td>i thought mukhsin wonder written it entertain...</td>\n",
              "      <td>0</td>\n",
              "      <td>-0.055595</td>\n",
              "    </tr>\n",
              "    <tr>\n",
              "      <th>1033</th>\n",
              "      <td>the last hard men find jame coburn outlaw lon...</td>\n",
              "      <td>0</td>\n",
              "      <td>-0.016319</td>\n",
              "    </tr>\n",
              "    <tr>\n",
              "      <th>1034</th>\n",
              "      <td>thi film took surpris i make habit find littl...</td>\n",
              "      <td>0</td>\n",
              "      <td>-0.033333</td>\n",
              "    </tr>\n",
              "    <tr>\n",
              "      <th>1039</th>\n",
              "      <td>daniel daylewi versatil actor aliv english ar...</td>\n",
              "      <td>0</td>\n",
              "      <td>-0.146779</td>\n",
              "    </tr>\n",
              "    <tr>\n",
              "      <th>1041</th>\n",
              "      <td>thi short film inspir soontob full length fea...</td>\n",
              "      <td>0</td>\n",
              "      <td>-0.010937</td>\n",
              "    </tr>\n",
              "    <tr>\n",
              "      <th>1042</th>\n",
              "      <td>i bought game impuls buy walmart i glad i did...</td>\n",
              "      <td>0</td>\n",
              "      <td>-0.013636</td>\n",
              "    </tr>\n",
              "  </tbody>\n",
              "</table>\n",
              "</div>\n",
              "      <button class=\"colab-df-convert\" onclick=\"convertToInteractive('df-a1f0efa7-390b-4c89-8a55-18f6544ff59f')\"\n",
              "              title=\"Convert this dataframe to an interactive table.\"\n",
              "              style=\"display:none;\">\n",
              "        \n",
              "  <svg xmlns=\"http://www.w3.org/2000/svg\" height=\"24px\"viewBox=\"0 0 24 24\"\n",
              "       width=\"24px\">\n",
              "    <path d=\"M0 0h24v24H0V0z\" fill=\"none\"/>\n",
              "    <path d=\"M18.56 5.44l.94 2.06.94-2.06 2.06-.94-2.06-.94-.94-2.06-.94 2.06-2.06.94zm-11 1L8.5 8.5l.94-2.06 2.06-.94-2.06-.94L8.5 2.5l-.94 2.06-2.06.94zm10 10l.94 2.06.94-2.06 2.06-.94-2.06-.94-.94-2.06-.94 2.06-2.06.94z\"/><path d=\"M17.41 7.96l-1.37-1.37c-.4-.4-.92-.59-1.43-.59-.52 0-1.04.2-1.43.59L10.3 9.45l-7.72 7.72c-.78.78-.78 2.05 0 2.83L4 21.41c.39.39.9.59 1.41.59.51 0 1.02-.2 1.41-.59l7.78-7.78 2.81-2.81c.8-.78.8-2.07 0-2.86zM5.41 20L4 18.59l7.72-7.72 1.47 1.35L5.41 20z\"/>\n",
              "  </svg>\n",
              "      </button>\n",
              "      \n",
              "  <style>\n",
              "    .colab-df-container {\n",
              "      display:flex;\n",
              "      flex-wrap:wrap;\n",
              "      gap: 12px;\n",
              "    }\n",
              "\n",
              "    .colab-df-convert {\n",
              "      background-color: #E8F0FE;\n",
              "      border: none;\n",
              "      border-radius: 50%;\n",
              "      cursor: pointer;\n",
              "      display: none;\n",
              "      fill: #1967D2;\n",
              "      height: 32px;\n",
              "      padding: 0 0 0 0;\n",
              "      width: 32px;\n",
              "    }\n",
              "\n",
              "    .colab-df-convert:hover {\n",
              "      background-color: #E2EBFA;\n",
              "      box-shadow: 0px 1px 2px rgba(60, 64, 67, 0.3), 0px 1px 3px 1px rgba(60, 64, 67, 0.15);\n",
              "      fill: #174EA6;\n",
              "    }\n",
              "\n",
              "    [theme=dark] .colab-df-convert {\n",
              "      background-color: #3B4455;\n",
              "      fill: #D2E3FC;\n",
              "    }\n",
              "\n",
              "    [theme=dark] .colab-df-convert:hover {\n",
              "      background-color: #434B5C;\n",
              "      box-shadow: 0px 1px 3px 1px rgba(0, 0, 0, 0.15);\n",
              "      filter: drop-shadow(0px 1px 2px rgba(0, 0, 0, 0.3));\n",
              "      fill: #FFFFFF;\n",
              "    }\n",
              "  </style>\n",
              "\n",
              "      <script>\n",
              "        const buttonEl =\n",
              "          document.querySelector('#df-a1f0efa7-390b-4c89-8a55-18f6544ff59f button.colab-df-convert');\n",
              "        buttonEl.style.display =\n",
              "          google.colab.kernel.accessAllowed ? 'block' : 'none';\n",
              "\n",
              "        async function convertToInteractive(key) {\n",
              "          const element = document.querySelector('#df-a1f0efa7-390b-4c89-8a55-18f6544ff59f');\n",
              "          const dataTable =\n",
              "            await google.colab.kernel.invokeFunction('convertToInteractive',\n",
              "                                                     [key], {});\n",
              "          if (!dataTable) return;\n",
              "\n",
              "          const docLinkHtml = 'Like what you see? Visit the ' +\n",
              "            '<a target=\"_blank\" href=https://colab.research.google.com/notebooks/data_table.ipynb>data table notebook</a>'\n",
              "            + ' to learn more about interactive tables.';\n",
              "          element.innerHTML = '';\n",
              "          dataTable['output_type'] = 'display_data';\n",
              "          await google.colab.output.renderOutput(dataTable, element);\n",
              "          const docLink = document.createElement('div');\n",
              "          docLink.innerHTML = docLinkHtml;\n",
              "          element.appendChild(docLink);\n",
              "        }\n",
              "      </script>\n",
              "    </div>\n",
              "  </div>\n",
              "  "
            ]
          },
          "metadata": {},
          "execution_count": 95
        }
      ]
    },
    {
      "cell_type": "code",
      "source": [
        "# Set style\n",
        "sns.set_style(\"whitegrid\")\n",
        "\n",
        "# Create line plot\n",
        "plt.figure(figsize=(8, 6))\n",
        "plt.plot(wrong_positive['pattern_polarity'], marker='o')\n",
        "\n",
        "# Add title and labels\n",
        "plt.title('Positive/Neutral User Sentiments with Negative Pattern Polarity')\n",
        "plt.xlabel('Data Points/Index')\n",
        "plt.ylabel('Pattern Polarity')\n",
        "\n",
        "# Show plot\n",
        "plt.show()"
      ],
      "metadata": {
        "colab": {
          "base_uri": "https://localhost:8080/",
          "height": 564
        },
        "id": "Ldpae69VrZ2I",
        "outputId": "285c024d-a209-4711-cf68-e0b29ad23d1f"
      },
      "execution_count": null,
      "outputs": [
        {
          "output_type": "display_data",
          "data": {
            "text/plain": [
              "<Figure size 800x600 with 1 Axes>"
            ],
            "image/png": "[encoded data removed]"
          },
          "metadata": {}
        }
      ]
    },
    {
      "cell_type": "code",
      "source": [
        "wrong_positive_sentiment = df[(df['Sentiment'] == 1) & ((df['pattern_polarity'] > 0))]\n",
        "num_neutral_negative = len(wrong_positive_sentiment)\n",
        "print(\"Number of negative sentiments with neutral polarity:\", num_neutral_negative)"
      ],
      "metadata": {
        "colab": {
          "base_uri": "https://localhost:8080/"
        },
        "id": "eVFIMtohsRGZ",
        "outputId": "4195c2ca-8b06-44db-deb2-dbbaf9f9dcfa"
      },
      "execution_count": null,
      "outputs": [
        {
          "output_type": "stream",
          "name": "stdout",
          "text": [
            "Number of negative sentiments with neutral polarity: 213\n"
          ]
        }
      ]
    },
    {
      "cell_type": "code",
      "source": [
        "wrong_positive_sentiment = wrong_positive_sentiment[['Statement', 'Sentiment', 'pattern_polarity']]\n",
        "wrong_positive_sentiment.head(10)"
      ],
      "metadata": {
        "colab": {
          "base_uri": "https://localhost:8080/",
          "height": 359
        },
        "id": "Q5nAkSP2swwE",
        "outputId": "916b4e51-2929-4b2d-9a08-406aa1003c3d"
      },
      "execution_count": null,
      "outputs": [
        {
          "output_type": "execute_result",
          "data": {
            "text/plain": [
              "                                   Statement  Sentiment  pattern_polarity\n",
              "0                 it legal husband rape wife          1          0.200000\n",
              "3    it better world women dare question men          1          0.500000\n",
              "14                  gay peopl burden societi          1          0.416667\n",
              "15                  gay peopl burden societi          1          0.416667\n",
              "32                 short peopl somehow smart          1          0.107143\n",
              "33                  short peopl smart extent          1          0.107143\n",
              "34                    short peopl damn smart          1          0.107143\n",
              "35                     short women fuck cute          1          0.033333\n",
              "41                     blond ladi fuce smart          1          0.214286\n",
              "42                         blond peopl smart          1          0.214286"
            ],
            "text/html": [
              "\n",
              "  <div id=\"df-7d50e7ce-7da3-4487-b611-9afac3b2a247\">\n",
              "    <div class=\"colab-df-container\">\n",
              "      <div>\n",
              "<style scoped>\n",
              "    .dataframe tbody tr th:only-of-type {\n",
              "        vertical-align: middle;\n",
              "    }\n",
              "\n",
              "    .dataframe tbody tr th {\n",
              "        vertical-align: top;\n",
              "    }\n",
              "\n",
              "    .dataframe thead th {\n",
              "        text-align: right;\n",
              "    }\n",
              "</style>\n",
              "<table border=\"1\" class=\"dataframe\">\n",
              "  <thead>\n",
              "    <tr style=\"text-align: right;\">\n",
              "      <th></th>\n",
              "      <th>Statement</th>\n",
              "      <th>Sentiment</th>\n",
              "      <th>pattern_polarity</th>\n",
              "    </tr>\n",
              "  </thead>\n",
              "  <tbody>\n",
              "    <tr>\n",
              "      <th>0</th>\n",
              "      <td>it legal husband rape wife</td>\n",
              "      <td>1</td>\n",
              "      <td>0.200000</td>\n",
              "    </tr>\n",
              "    <tr>\n",
              "      <th>3</th>\n",
              "      <td>it better world women dare question men</td>\n",
              "      <td>1</td>\n",
              "      <td>0.500000</td>\n",
              "    </tr>\n",
              "    <tr>\n",
              "      <th>14</th>\n",
              "      <td>gay peopl burden societi</td>\n",
              "      <td>1</td>\n",
              "      <td>0.416667</td>\n",
              "    </tr>\n",
              "    <tr>\n",
              "      <th>15</th>\n",
              "      <td>gay peopl burden societi</td>\n",
              "      <td>1</td>\n",
              "      <td>0.416667</td>\n",
              "    </tr>\n",
              "    <tr>\n",
              "      <th>32</th>\n",
              "      <td>short peopl somehow smart</td>\n",
              "      <td>1</td>\n",
              "      <td>0.107143</td>\n",
              "    </tr>\n",
              "    <tr>\n",
              "      <th>33</th>\n",
              "      <td>short peopl smart extent</td>\n",
              "      <td>1</td>\n",
              "      <td>0.107143</td>\n",
              "    </tr>\n",
              "    <tr>\n",
              "      <th>34</th>\n",
              "      <td>short peopl damn smart</td>\n",
              "      <td>1</td>\n",
              "      <td>0.107143</td>\n",
              "    </tr>\n",
              "    <tr>\n",
              "      <th>35</th>\n",
              "      <td>short women fuck cute</td>\n",
              "      <td>1</td>\n",
              "      <td>0.033333</td>\n",
              "    </tr>\n",
              "    <tr>\n",
              "      <th>41</th>\n",
              "      <td>blond ladi fuce smart</td>\n",
              "      <td>1</td>\n",
              "      <td>0.214286</td>\n",
              "    </tr>\n",
              "    <tr>\n",
              "      <th>42</th>\n",
              "      <td>blond peopl smart</td>\n",
              "      <td>1</td>\n",
              "      <td>0.214286</td>\n",
              "    </tr>\n",
              "  </tbody>\n",
              "</table>\n",
              "</div>\n",
              "      <button class=\"colab-df-convert\" onclick=\"convertToInteractive('df-7d50e7ce-7da3-4487-b611-9afac3b2a247')\"\n",
              "              title=\"Convert this dataframe to an interactive table.\"\n",
              "              style=\"display:none;\">\n",
              "        \n",
              "  <svg xmlns=\"http://www.w3.org/2000/svg\" height=\"24px\"viewBox=\"0 0 24 24\"\n",
              "       width=\"24px\">\n",
              "    <path d=\"M0 0h24v24H0V0z\" fill=\"none\"/>\n",
              "    <path d=\"M18.56 5.44l.94 2.06.94-2.06 2.06-.94-2.06-.94-.94-2.06-.94 2.06-2.06.94zm-11 1L8.5 8.5l.94-2.06 2.06-.94-2.06-.94L8.5 2.5l-.94 2.06-2.06.94zm10 10l.94 2.06.94-2.06 2.06-.94-2.06-.94-.94-2.06-.94 2.06-2.06.94z\"/><path d=\"M17.41 7.96l-1.37-1.37c-.4-.4-.92-.59-1.43-.59-.52 0-1.04.2-1.43.59L10.3 9.45l-7.72 7.72c-.78.78-.78 2.05 0 2.83L4 21.41c.39.39.9.59 1.41.59.51 0 1.02-.2 1.41-.59l7.78-7.78 2.81-2.81c.8-.78.8-2.07 0-2.86zM5.41 20L4 18.59l7.72-7.72 1.47 1.35L5.41 20z\"/>\n",
              "  </svg>\n",
              "      </button>\n",
              "      \n",
              "  <style>\n",
              "    .colab-df-container {\n",
              "      display:flex;\n",
              "      flex-wrap:wrap;\n",
              "      gap: 12px;\n",
              "    }\n",
              "\n",
              "    .colab-df-convert {\n",
              "      background-color: #E8F0FE;\n",
              "      border: none;\n",
              "      border-radius: 50%;\n",
              "      cursor: pointer;\n",
              "      display: none;\n",
              "      fill: #1967D2;\n",
              "      height: 32px;\n",
              "      padding: 0 0 0 0;\n",
              "      width: 32px;\n",
              "    }\n",
              "\n",
              "    .colab-df-convert:hover {\n",
              "      background-color: #E2EBFA;\n",
              "      box-shadow: 0px 1px 2px rgba(60, 64, 67, 0.3), 0px 1px 3px 1px rgba(60, 64, 67, 0.15);\n",
              "      fill: #174EA6;\n",
              "    }\n",
              "\n",
              "    [theme=dark] .colab-df-convert {\n",
              "      background-color: #3B4455;\n",
              "      fill: #D2E3FC;\n",
              "    }\n",
              "\n",
              "    [theme=dark] .colab-df-convert:hover {\n",
              "      background-color: #434B5C;\n",
              "      box-shadow: 0px 1px 3px 1px rgba(0, 0, 0, 0.15);\n",
              "      filter: drop-shadow(0px 1px 2px rgba(0, 0, 0, 0.3));\n",
              "      fill: #FFFFFF;\n",
              "    }\n",
              "  </style>\n",
              "\n",
              "      <script>\n",
              "        const buttonEl =\n",
              "          document.querySelector('#df-7d50e7ce-7da3-4487-b611-9afac3b2a247 button.colab-df-convert');\n",
              "        buttonEl.style.display =\n",
              "          google.colab.kernel.accessAllowed ? 'block' : 'none';\n",
              "\n",
              "        async function convertToInteractive(key) {\n",
              "          const element = document.querySelector('#df-7d50e7ce-7da3-4487-b611-9afac3b2a247');\n",
              "          const dataTable =\n",
              "            await google.colab.kernel.invokeFunction('convertToInteractive',\n",
              "                                                     [key], {});\n",
              "          if (!dataTable) return;\n",
              "\n",
              "          const docLinkHtml = 'Like what you see? Visit the ' +\n",
              "            '<a target=\"_blank\" href=https://colab.research.google.com/notebooks/data_table.ipynb>data table notebook</a>'\n",
              "            + ' to learn more about interactive tables.';\n",
              "          element.innerHTML = '';\n",
              "          dataTable['output_type'] = 'display_data';\n",
              "          await google.colab.output.renderOutput(dataTable, element);\n",
              "          const docLink = document.createElement('div');\n",
              "          docLink.innerHTML = docLinkHtml;\n",
              "          element.appendChild(docLink);\n",
              "        }\n",
              "      </script>\n",
              "    </div>\n",
              "  </div>\n",
              "  "
            ]
          },
          "metadata": {},
          "execution_count": 100
        }
      ]
    },
    {
      "cell_type": "code",
      "source": [
        "# Set style\n",
        "sns.set_style(\"whitegrid\")\n",
        "\n",
        "# Create line plot\n",
        "plt.figure(figsize=(8, 6))\n",
        "plt.plot(wrong_positive_sentiment['pattern_polarity'], marker='o')\n",
        "\n",
        "# Add title and labels\n",
        "plt.title('Negative User Sentiments with Positive Pattern Polarity')\n",
        "plt.xlabel('Data Points/Index')\n",
        "plt.ylabel('Pattern Polarity')\n",
        "\n",
        "# Show plot\n",
        "plt.show()"
      ],
      "metadata": {
        "colab": {
          "base_uri": "https://localhost:8080/",
          "height": 564
        },
        "id": "5Aq-yufJtRQm",
        "outputId": "052f8233-c800-4a6c-ea25-16924961c947"
      },
      "execution_count": null,
      "outputs": [
        {
          "output_type": "display_data",
          "data": {
            "text/plain": [
              "<Figure size 800x600 with 1 Axes>"
            ],
            "image/png": "[encoded data removed]"
          },
          "metadata": {}
        }
      ]
    },
    {
      "cell_type": "code",
      "source": [
        "wrong_negative_neutral = df[(df['Sentiment'] == 1) & ((df['pattern_polarity'] == 0))]\n",
        "num_wrong_positive = len(wrong_negative_neutral)\n",
        "print(\"Number of Positive/neutral sentiments with negative polarity:\", num_wrong_positive)"
      ],
      "metadata": {
        "colab": {
          "base_uri": "https://localhost:8080/"
        },
        "id": "eWLTxQxLt0Mf",
        "outputId": "84174d3b-6b62-4e96-cb39-47844e1ea586"
      },
      "execution_count": null,
      "outputs": [
        {
          "output_type": "stream",
          "name": "stdout",
          "text": [
            "Number of Positive/neutral sentiments with negative polarity: 419\n"
          ]
        }
      ]
    },
    {
      "cell_type": "code",
      "source": [
        "wrong_negative_neutral = wrong_negative_neutral[['Statement', 'Sentiment', 'pattern_polarity']]\n",
        "wrong_negative_neutral.head(10)"
      ],
      "metadata": {
        "colab": {
          "base_uri": "https://localhost:8080/",
          "height": 359
        },
        "id": "kNCWzzwkuHRW",
        "outputId": "94e53418-83df-4c9e-b645-77c7d993652f"
      },
      "execution_count": null,
      "outputs": [
        {
          "output_type": "execute_result",
          "data": {
            "text/plain": [
              "                     Statement  Sentiment  pattern_polarity\n",
              "2                 dalit lowliv          1               0.0\n",
              "12       immigr burden societi          1               0.0\n",
              "13        women burden societi          1               0.0\n",
              "28       i dont hatefuck islam          1               0.0\n",
              "31             govern incompet          1               0.0\n",
              "37           tall men intellig          1               0.0\n",
              "40                  pear tasti          1               0.0\n",
              "43              arab terrorist          1               0.0\n",
              "44       terrorist must muslim          1               0.0\n",
              "45   terrorist must muslim rat          1               0.0"
            ],
            "text/html": [
              "\n",
              "  <div id=\"df-ae2a6416-e139-4949-9723-e72c7664c22d\">\n",
              "    <div class=\"colab-df-container\">\n",
              "      <div>\n",
              "<style scoped>\n",
              "    .dataframe tbody tr th:only-of-type {\n",
              "        vertical-align: middle;\n",
              "    }\n",
              "\n",
              "    .dataframe tbody tr th {\n",
              "        vertical-align: top;\n",
              "    }\n",
              "\n",
              "    .dataframe thead th {\n",
              "        text-align: right;\n",
              "    }\n",
              "</style>\n",
              "<table border=\"1\" class=\"dataframe\">\n",
              "  <thead>\n",
              "    <tr style=\"text-align: right;\">\n",
              "      <th></th>\n",
              "      <th>Statement</th>\n",
              "      <th>Sentiment</th>\n",
              "      <th>pattern_polarity</th>\n",
              "    </tr>\n",
              "  </thead>\n",
              "  <tbody>\n",
              "    <tr>\n",
              "      <th>2</th>\n",
              "      <td>dalit lowliv</td>\n",
              "      <td>1</td>\n",
              "      <td>0.0</td>\n",
              "    </tr>\n",
              "    <tr>\n",
              "      <th>12</th>\n",
              "      <td>immigr burden societi</td>\n",
              "      <td>1</td>\n",
              "      <td>0.0</td>\n",
              "    </tr>\n",
              "    <tr>\n",
              "      <th>13</th>\n",
              "      <td>women burden societi</td>\n",
              "      <td>1</td>\n",
              "      <td>0.0</td>\n",
              "    </tr>\n",
              "    <tr>\n",
              "      <th>28</th>\n",
              "      <td>i dont hatefuck islam</td>\n",
              "      <td>1</td>\n",
              "      <td>0.0</td>\n",
              "    </tr>\n",
              "    <tr>\n",
              "      <th>31</th>\n",
              "      <td>govern incompet</td>\n",
              "      <td>1</td>\n",
              "      <td>0.0</td>\n",
              "    </tr>\n",
              "    <tr>\n",
              "      <th>37</th>\n",
              "      <td>tall men intellig</td>\n",
              "      <td>1</td>\n",
              "      <td>0.0</td>\n",
              "    </tr>\n",
              "    <tr>\n",
              "      <th>40</th>\n",
              "      <td>pear tasti</td>\n",
              "      <td>1</td>\n",
              "      <td>0.0</td>\n",
              "    </tr>\n",
              "    <tr>\n",
              "      <th>43</th>\n",
              "      <td>arab terrorist</td>\n",
              "      <td>1</td>\n",
              "      <td>0.0</td>\n",
              "    </tr>\n",
              "    <tr>\n",
              "      <th>44</th>\n",
              "      <td>terrorist must muslim</td>\n",
              "      <td>1</td>\n",
              "      <td>0.0</td>\n",
              "    </tr>\n",
              "    <tr>\n",
              "      <th>45</th>\n",
              "      <td>terrorist must muslim rat</td>\n",
              "      <td>1</td>\n",
              "      <td>0.0</td>\n",
              "    </tr>\n",
              "  </tbody>\n",
              "</table>\n",
              "</div>\n",
              "      <button class=\"colab-df-convert\" onclick=\"convertToInteractive('df-ae2a6416-e139-4949-9723-e72c7664c22d')\"\n",
              "              title=\"Convert this dataframe to an interactive table.\"\n",
              "              style=\"display:none;\">\n",
              "        \n",
              "  <svg xmlns=\"http://www.w3.org/2000/svg\" height=\"24px\"viewBox=\"0 0 24 24\"\n",
              "       width=\"24px\">\n",
              "    <path d=\"M0 0h24v24H0V0z\" fill=\"none\"/>\n",
              "    <path d=\"M18.56 5.44l.94 2.06.94-2.06 2.06-.94-2.06-.94-.94-2.06-.94 2.06-2.06.94zm-11 1L8.5 8.5l.94-2.06 2.06-.94-2.06-.94L8.5 2.5l-.94 2.06-2.06.94zm10 10l.94 2.06.94-2.06 2.06-.94-2.06-.94-.94-2.06-.94 2.06-2.06.94z\"/><path d=\"M17.41 7.96l-1.37-1.37c-.4-.4-.92-.59-1.43-.59-.52 0-1.04.2-1.43.59L10.3 9.45l-7.72 7.72c-.78.78-.78 2.05 0 2.83L4 21.41c.39.39.9.59 1.41.59.51 0 1.02-.2 1.41-.59l7.78-7.78 2.81-2.81c.8-.78.8-2.07 0-2.86zM5.41 20L4 18.59l7.72-7.72 1.47 1.35L5.41 20z\"/>\n",
              "  </svg>\n",
              "      </button>\n",
              "      \n",
              "  <style>\n",
              "    .colab-df-container {\n",
              "      display:flex;\n",
              "      flex-wrap:wrap;\n",
              "      gap: 12px;\n",
              "    }\n",
              "\n",
              "    .colab-df-convert {\n",
              "      background-color: #E8F0FE;\n",
              "      border: none;\n",
              "      border-radius: 50%;\n",
              "      cursor: pointer;\n",
              "      display: none;\n",
              "      fill: #1967D2;\n",
              "      height: 32px;\n",
              "      padding: 0 0 0 0;\n",
              "      width: 32px;\n",
              "    }\n",
              "\n",
              "    .colab-df-convert:hover {\n",
              "      background-color: #E2EBFA;\n",
              "      box-shadow: 0px 1px 2px rgba(60, 64, 67, 0.3), 0px 1px 3px 1px rgba(60, 64, 67, 0.15);\n",
              "      fill: #174EA6;\n",
              "    }\n",
              "\n",
              "    [theme=dark] .colab-df-convert {\n",
              "      background-color: #3B4455;\n",
              "      fill: #D2E3FC;\n",
              "    }\n",
              "\n",
              "    [theme=dark] .colab-df-convert:hover {\n",
              "      background-color: #434B5C;\n",
              "      box-shadow: 0px 1px 3px 1px rgba(0, 0, 0, 0.15);\n",
              "      filter: drop-shadow(0px 1px 2px rgba(0, 0, 0, 0.3));\n",
              "      fill: #FFFFFF;\n",
              "    }\n",
              "  </style>\n",
              "\n",
              "      <script>\n",
              "        const buttonEl =\n",
              "          document.querySelector('#df-ae2a6416-e139-4949-9723-e72c7664c22d button.colab-df-convert');\n",
              "        buttonEl.style.display =\n",
              "          google.colab.kernel.accessAllowed ? 'block' : 'none';\n",
              "\n",
              "        async function convertToInteractive(key) {\n",
              "          const element = document.querySelector('#df-ae2a6416-e139-4949-9723-e72c7664c22d');\n",
              "          const dataTable =\n",
              "            await google.colab.kernel.invokeFunction('convertToInteractive',\n",
              "                                                     [key], {});\n",
              "          if (!dataTable) return;\n",
              "\n",
              "          const docLinkHtml = 'Like what you see? Visit the ' +\n",
              "            '<a target=\"_blank\" href=https://colab.research.google.com/notebooks/data_table.ipynb>data table notebook</a>'\n",
              "            + ' to learn more about interactive tables.';\n",
              "          element.innerHTML = '';\n",
              "          dataTable['output_type'] = 'display_data';\n",
              "          await google.colab.output.renderOutput(dataTable, element);\n",
              "          const docLink = document.createElement('div');\n",
              "          docLink.innerHTML = docLinkHtml;\n",
              "          element.appendChild(docLink);\n",
              "        }\n",
              "      </script>\n",
              "    </div>\n",
              "  </div>\n",
              "  "
            ]
          },
          "metadata": {},
          "execution_count": 103
        }
      ]
    },
    {
      "cell_type": "code",
      "source": [
        "# Set style\n",
        "sns.set_style(\"whitegrid\")\n",
        "\n",
        "# Create line plot\n",
        "plt.figure(figsize=(8, 6))\n",
        "plt.plot(wrong_negative_neutral['pattern_polarity'], marker='o')\n",
        "\n",
        "# Add title and labels\n",
        "plt.title('Negative User Sentiments with Neutral Pattern Polarity')\n",
        "plt.xlabel('Data Points/Index')\n",
        "plt.ylabel('Pattern Polarity')\n",
        "\n",
        "# Show plot\n",
        "plt.show()"
      ],
      "metadata": {
        "colab": {
          "base_uri": "https://localhost:8080/",
          "height": 564
        },
        "id": "medXomYluRgj",
        "outputId": "0aef523f-7dae-469f-c821-be0820a12e6e"
      },
      "execution_count": null,
      "outputs": [
        {
          "output_type": "display_data",
          "data": {
            "text/plain": [
              "<Figure size 800x600 with 1 Axes>"
            ],
            "image/png": "[encoded data removed]"
          },
          "metadata": {}
        }
      ]
    }
  ],
  "metadata": {
    "colab": {
      "provenance": []
    },
    "kernelspec": {
      "display_name": "Python 3",
      "name": "python3"
    },
    "language_info": {
      "name": "python"
    }
  },
  "nbformat": 4,
  "nbformat_minor": 0
}